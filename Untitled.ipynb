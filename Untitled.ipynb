{
 "cells": [
  {
   "cell_type": "markdown",
   "id": "e4daaf75-bd07-4c96-a4a2-ec2d2d319e03",
   "metadata": {},
   "source": [
    "Lecturer: Dr Brian McGinley  \n",
    "Module: Programming For Data Analysis  \n",
    "Author: Enda Lynch  \n",
    "Github Username: Lynch08  \n",
    "GMIT Email: G003987951@gmit.ie  \n",
    "Personal Email: elyn@live.ie  "
   ]
  },
  {
   "cell_type": "markdown",
   "id": "aca18b60-7675-4f2f-80b9-e7b55b8f5ab8",
   "metadata": {},
   "source": [
    "# Introduction\n",
    "This repository contains all of the files pertaining to my 2021 project submission for the Programming for Data Analysis module of the GMIT H.Dip program in Data Analytics. All of the work contained within this repository was carried out over the course of a 3 week period in December 2021. This Jupyter notebook contains the complete documentation for the project."
   ]
  },
  {
   "cell_type": "markdown",
   "id": "9f2d6ab6-e989-4516-a92e-4efc3776d4dc",
   "metadata": {},
   "source": [
    "### 1.1 Project objective\n",
    "The objective of this project is to synthesise a data set based on some real world phenomenon. This requires investigation in to the phenomenon and then using the numpy.random package in Python to simulated some data based on this. The problem statement for the assignment is as follows :\n",
    "\n",
    "Choose a real-world phenomenon that can be measured and for which you could collect at least one-hundred data points across at least four different variables.\n",
    "Investigate the types of variables involved, their likely distributions, and their relationships with each other.\n",
    "Synthesise/simulate a data set as closely matching their properties as possible.\n",
    "Detail your research and implement the simulation in a Jupyter notebook – the data set itself can simply be displayed in an output cell within the notebook.\n",
    "1.2 Choice of real world phenomenon\n",
    "The dataset I have choosen to synthesise is not a big data set but it is of interest to me as I like to try to be a healthy eater. This as with many things in life does not always go according to plan. Although I will say it does help to be as informed as possible.  \n",
    "The dataset I have chosen to synthesise is the Nutrition data on 80 cereal products. \n",
    "I obtained this data from the website Kaggle.com. Here is the link to the page: https://www.kaggle.com/datasets/crawford/80-cereals?resource=download&select=cereal.csv  "
   ]
  },
  {
   "cell_type": "code",
   "execution_count": null,
   "id": "9df538af-7530-4485-b4b9-40e74241f5ba",
   "metadata": {},
   "outputs": [],
   "source": []
  },
  {
   "cell_type": "code",
   "execution_count": null,
   "id": "5cecc8bf-708c-4fca-ab33-270e2bcfa795",
   "metadata": {},
   "outputs": [],
   "source": []
  },
  {
   "cell_type": "code",
   "execution_count": null,
   "id": "39a8769c-611b-445d-a66f-2dd5c20a5c85",
   "metadata": {},
   "outputs": [],
   "source": []
  },
  {
   "cell_type": "code",
   "execution_count": null,
   "id": "a0924fb5-94ca-4c0f-82eb-05b11a19abfb",
   "metadata": {},
   "outputs": [],
   "source": []
  },
  {
   "cell_type": "code",
   "execution_count": null,
   "id": "3b284680-7006-4081-991b-1f8e5993c588",
   "metadata": {},
   "outputs": [],
   "source": []
  },
  {
   "cell_type": "code",
   "execution_count": 6,
   "id": "501e7ea7-d9cc-4c20-ae52-ed932225262b",
   "metadata": {},
   "outputs": [],
   "source": [
    "# create a list of countries by appending number to 'country'\n",
    "cereal =[]\n",
    "# use for loop and concatenate number to string\n",
    "for i in range(80):\n",
    "    cerealname = 'Sim_Cereal_'+str(i)\n",
    "    # append countryname  to list of countries\n",
    "    cereal.append(cerealname)"
   ]
  },
  {
   "cell_type": "code",
   "execution_count": 7,
   "id": "53cd46bd-203f-4ea8-84c6-6090b48053ab",
   "metadata": {},
   "outputs": [
    {
     "data": {
      "text/plain": [
       "['Sim_Cereal_0',\n",
       " 'Sim_Cereal_1',\n",
       " 'Sim_Cereal_2',\n",
       " 'Sim_Cereal_3',\n",
       " 'Sim_Cereal_4',\n",
       " 'Sim_Cereal_5',\n",
       " 'Sim_Cereal_6',\n",
       " 'Sim_Cereal_7',\n",
       " 'Sim_Cereal_8',\n",
       " 'Sim_Cereal_9',\n",
       " 'Sim_Cereal_10',\n",
       " 'Sim_Cereal_11',\n",
       " 'Sim_Cereal_12',\n",
       " 'Sim_Cereal_13',\n",
       " 'Sim_Cereal_14',\n",
       " 'Sim_Cereal_15',\n",
       " 'Sim_Cereal_16',\n",
       " 'Sim_Cereal_17',\n",
       " 'Sim_Cereal_18',\n",
       " 'Sim_Cereal_19',\n",
       " 'Sim_Cereal_20',\n",
       " 'Sim_Cereal_21',\n",
       " 'Sim_Cereal_22',\n",
       " 'Sim_Cereal_23',\n",
       " 'Sim_Cereal_24',\n",
       " 'Sim_Cereal_25',\n",
       " 'Sim_Cereal_26',\n",
       " 'Sim_Cereal_27',\n",
       " 'Sim_Cereal_28',\n",
       " 'Sim_Cereal_29',\n",
       " 'Sim_Cereal_30',\n",
       " 'Sim_Cereal_31',\n",
       " 'Sim_Cereal_32',\n",
       " 'Sim_Cereal_33',\n",
       " 'Sim_Cereal_34',\n",
       " 'Sim_Cereal_35',\n",
       " 'Sim_Cereal_36',\n",
       " 'Sim_Cereal_37',\n",
       " 'Sim_Cereal_38',\n",
       " 'Sim_Cereal_39',\n",
       " 'Sim_Cereal_40',\n",
       " 'Sim_Cereal_41',\n",
       " 'Sim_Cereal_42',\n",
       " 'Sim_Cereal_43',\n",
       " 'Sim_Cereal_44',\n",
       " 'Sim_Cereal_45',\n",
       " 'Sim_Cereal_46',\n",
       " 'Sim_Cereal_47',\n",
       " 'Sim_Cereal_48',\n",
       " 'Sim_Cereal_49',\n",
       " 'Sim_Cereal_50',\n",
       " 'Sim_Cereal_51',\n",
       " 'Sim_Cereal_52',\n",
       " 'Sim_Cereal_53',\n",
       " 'Sim_Cereal_54',\n",
       " 'Sim_Cereal_55',\n",
       " 'Sim_Cereal_56',\n",
       " 'Sim_Cereal_57',\n",
       " 'Sim_Cereal_58',\n",
       " 'Sim_Cereal_59',\n",
       " 'Sim_Cereal_60',\n",
       " 'Sim_Cereal_61',\n",
       " 'Sim_Cereal_62',\n",
       " 'Sim_Cereal_63',\n",
       " 'Sim_Cereal_64',\n",
       " 'Sim_Cereal_65',\n",
       " 'Sim_Cereal_66',\n",
       " 'Sim_Cereal_67',\n",
       " 'Sim_Cereal_68',\n",
       " 'Sim_Cereal_69',\n",
       " 'Sim_Cereal_70',\n",
       " 'Sim_Cereal_71',\n",
       " 'Sim_Cereal_72',\n",
       " 'Sim_Cereal_73',\n",
       " 'Sim_Cereal_74',\n",
       " 'Sim_Cereal_75',\n",
       " 'Sim_Cereal_76',\n",
       " 'Sim_Cereal_77',\n",
       " 'Sim_Cereal_78',\n",
       " 'Sim_Cereal_79']"
      ]
     },
     "execution_count": 7,
     "metadata": {},
     "output_type": "execute_result"
    }
   ],
   "source": [
    "cereal"
   ]
  },
  {
   "cell_type": "code",
   "execution_count": null,
   "id": "f01fe5af-429c-4432-997e-e421ccab5ee1",
   "metadata": {},
   "outputs": [],
   "source": []
  }
 ],
 "metadata": {
  "kernelspec": {
   "display_name": "Python 3 (ipykernel)",
   "language": "python",
   "name": "python3"
  },
  "language_info": {
   "codemirror_mode": {
    "name": "ipython",
    "version": 3
   },
   "file_extension": ".py",
   "mimetype": "text/x-python",
   "name": "python",
   "nbconvert_exporter": "python",
   "pygments_lexer": "ipython3",
   "version": "3.9.12"
  }
 },
 "nbformat": 4,
 "nbformat_minor": 5
}
