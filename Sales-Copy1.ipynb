{
 "cells": [
  {
   "cell_type": "code",
   "execution_count": 1,
   "id": "6c32f43c-9c9c-4dc0-905a-a60c4200ebad",
   "metadata": {},
   "outputs": [],
   "source": [
    "import pandas as pd\n",
    "import numpy as np\n",
    "import random\n",
    "import datetime as dt\n",
    "import calendar\n",
    "import os\n",
    "#loads data using all filepaths\n",
    "import glob\n",
    "import matplotlib.pyplot as plt"
   ]
  },
  {
   "cell_type": "code",
   "execution_count": 2,
   "id": "b12780c7-dba9-4e1a-b351-0b27039cb095",
   "metadata": {},
   "outputs": [],
   "source": [
    "#phone: [Price, Weight (1-12, 12 being the most frequntly purchased)]\n",
    "phones = { 'iPhone 13':[1000, 12],\n",
    "          'iPhone 12':[700,8],\n",
    "          'Samsung Galexy S22':[1100,10],\n",
    "          'Samsung Galexy S21':[800,7],\n",
    "          'Samsung Galexy S10':[300,4],\n",
    "          'Huawei':[350,7],\n",
    "          'Nokia c200':[400,4],\n",
    "          'Google Android': [900,6],\n",
    "          'iPhone 11':[500, 9],\n",
    "          'Sony Xperia 10':[700,5],\n",
    "          'Sony Xperia 5':[450,4],\n",
    "          'Nokia c100':[200,2]}"
   ]
  },
  {
   "cell_type": "code",
   "execution_count": null,
   "id": "7041839a-db10-4bec-b04f-37a62ef11333",
   "metadata": {},
   "outputs": [],
   "source": []
  },
  {
   "cell_type": "code",
   "execution_count": 3,
   "id": "45bc2c3c-1da8-4ad0-9c19-170a96e0486f",
   "metadata": {},
   "outputs": [],
   "source": [
    "# Columns for Dataframe\n",
    "columns = ['Order ID', 'Phone', 'Quatity Ordered', 'Price Each', 'Order Date', 'Purchase Country_City']"
   ]
  },
  {
   "cell_type": "code",
   "execution_count": 4,
   "id": "9e4f0d21-429c-4b98-a9ea-e5a5bba8dc87",
   "metadata": {},
   "outputs": [],
   "source": [
    "def gen_random_country_city():\n",
    "    \n",
    "    companies = ['Sim_Company_1','Sim_Company_2','Sim_Company_3','Sim_Company_4','Sim_Company_5','Sim_Company_6','Sim_Company_7','Sim_Company_8','Sim_Company_9','Sim_Company_10',\n",
    "               'Sim_Company_11','Sim_Company_12','Sim_Company_13','Sim_Company_14','Sim_Company_15','Sim_Company_16','Sim_Company_17','Sim_Company_18','Sim_Company_19','Sim_Company_20']\n",
    "    countries = [\"China\",\"India\",\"United States\",\"Indonesia\",\"Brazil\",\"Russia\",\"Japan\",\"Mexico\",\"Nigeria\",\"Philippines\",\n",
    "              \"Germany\",\"Vietnam\",\"Bangladesh\",\"Turkey\",\"Iran\",\"Egypt\",\"Pakistan\",\"Thailand\",\"Italy\",\"South Africa\"]\n",
    "    weights = [30, 29, 26, 26, 25, 23, 20, 19, 18, 18, 18, 16, 16, 15, 15, 14, 12, 11, 10, 10]\n",
    "    cities = [\"Beijing\",\"Delhi\",\"Boston\",\"Jakarta\",\"Sao Paulo\",\"Moscow\",\"Yokohama\",\"Mexico City\",\"Lagos\",\"Manila\",\n",
    "            \"Munich\",\"Hanoi\",\"Dhaka\",\"Ankara\",\"Isfahan\",\"Giza\",\"Islamabad\",\"Bangkok\",\"Milan\",\"Durban\"]\n",
    "    \n",
    "    index = random.choices(range(len(countries)), weights = weights)[0]\n",
    "    \n",
    "    return f\"{companies[index]},{cities[index]}, {countries[index]}\"\n",
    "\n"
   ]
  },
  {
   "cell_type": "code",
   "execution_count": 5,
   "id": "968955db-b7c4-4ef4-950f-6971ae2fde40",
   "metadata": {},
   "outputs": [],
   "source": [
    "#genderate random date/time in \n",
    "def generate_random_dt(month):\n",
    "    day_range = calendar.monthrange(2022,month)[1]\n",
    "    random_day = random.randint(1, day_range)\n",
    "    if random.random() < 0.5:\n",
    "        date = dt.datetime(2022,month, random_day, 12, 0)\n",
    "    else:\n",
    "        date = dt.datetime(2022,month, random_day, 20, 0)\n",
    "        \n",
    "    time_offset = np.random.normal(loc=0, scale = 180)\n",
    "    final_date = date + dt.timedelta(minutes=time_offset)\n",
    "    \n",
    "    return final_date.strftime(\"%d/%m/%y \")#%H:%M\n"
   ]
  },
  {
   "cell_type": "code",
   "execution_count": null,
   "id": "45a95c20-8491-4136-ad5a-77a0e2d99baf",
   "metadata": {},
   "outputs": [],
   "source": []
  },
  {
   "cell_type": "code",
   "execution_count": 6,
   "id": "0bf709ab-b68a-403e-8c17-16f1af0b1b6d",
   "metadata": {},
   "outputs": [],
   "source": [
    "#get names of phones\n",
    "phone_list = [phone for phone in phones]\n",
    "weights = [phones[phone][1] for phone in phones]"
   ]
  },
  {
   "cell_type": "code",
   "execution_count": 7,
   "id": "eabe7ae0-08aa-4da9-8de3-a624e5e9810a",
   "metadata": {},
   "outputs": [],
   "source": [
    "\n",
    "order_id = 124554\n",
    "\n",
    "os.mkdir('Monthly_Data')\n",
    "\n",
    "for month_val in range (1,13):\n",
    "    \n",
    "    if month_val <= 10:\n",
    "        orders_amt = int(np.random.normal(loc=1200, scale=400))\n",
    "    if month_val == 11:\n",
    "        orders_amt = int(np.random.normal(loc=2000, scale=300))\n",
    "    if month_val == 12:\n",
    "        orders_amt = int(np.random.normal(loc=2800, scale=250))\n",
    "    df = pd.DataFrame(columns = columns)\n",
    "    \n",
    "    for i in range(orders_amt):\n",
    "\n",
    "        location = gen_random_country_city()\n",
    "        date = generate_random_dt(month_val)\n",
    "        \n",
    "        phone = random.choices(phone_list, weights = weights)[0]\n",
    "        price = phones[phone][0]\n",
    "        quantity_ordered = np.random.geometric(p=1.0/price, size=1)[0]\n",
    "        df.loc[i] = [order_id, phone, quantity_ordered, price, date, location]\n",
    "        \n",
    "        order_id += 1\n",
    "        \n",
    "   \n",
    "    month_name = calendar.month_name[month_val]\n",
    "    df.to_csv( f\"C:/Users/elyn/Documents/ProgDA/Monthly_Data/{month_name}_data.csv\", index=False)\n",
    "\n"
   ]
  },
  {
   "cell_type": "code",
   "execution_count": 8,
   "id": "2d51ed80-da06-4b3a-80b3-094f4325c887",
   "metadata": {},
   "outputs": [],
   "source": [
    "\n",
    "# merging all csv files\n",
    "#annual_df = pd.concat(\n",
    "#    map(pd.read_csv, ['January_data.csv', 'February_data.csv', 'March_data.csv', 'April_data.csv', 'May_data.csv', 'June_data.csv', 'July_data.csv', 'August_data.csv', 'September_data.csv', \n",
    "#                     'October_data.csv', 'November_data.csv', 'December_data.csv']), ignore_index=True)\n",
    "#annual_df.to_csv(\"Annual_data.csv\", index=False)\n",
    "\n",
    "\n",
    "# get data file names\n",
    "path =r'C:\\Users\\elyn\\Documents\\ProgDA\\Monthly_Data'\n",
    "filenames = glob.glob(path + \"/*.csv\")\n",
    "\n",
    "dfs = []\n",
    "for filename in filenames:\n",
    "    dfs.append(pd.read_csv(filename))\n",
    "\n",
    "# Concatenate all data into one DataFrame\n",
    "annual_df = pd.concat(dfs, ignore_index=True)\n",
    "annual_df.to_csv(\"Annual_data.csv\", index=False)"
   ]
  },
  {
   "cell_type": "code",
   "execution_count": null,
   "id": "ec242cbc-12cc-4e97-b6b0-2e7f5db9c911",
   "metadata": {},
   "outputs": [],
   "source": []
  },
  {
   "cell_type": "code",
   "execution_count": null,
   "id": "783df344-ca61-45db-8276-775965401edd",
   "metadata": {},
   "outputs": [],
   "source": [
    "# Change the style of plot\n",
    "plt.style.use('seaborn-darkgrid')\n",
    "# Create a color palette\n",
    "palette = plt.get_cmap('Set1')"
   ]
  }
 ],
 "metadata": {
  "kernelspec": {
   "display_name": "Python 3 (ipykernel)",
   "language": "python",
   "name": "python3"
  },
  "language_info": {
   "codemirror_mode": {
    "name": "ipython",
    "version": 3
   },
   "file_extension": ".py",
   "mimetype": "text/x-python",
   "name": "python",
   "nbconvert_exporter": "python",
   "pygments_lexer": "ipython3",
   "version": "3.9.12"
  }
 },
 "nbformat": 4,
 "nbformat_minor": 5
}
