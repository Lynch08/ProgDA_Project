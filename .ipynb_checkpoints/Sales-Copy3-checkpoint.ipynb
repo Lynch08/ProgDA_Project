{
 "cells": [
  {
   "cell_type": "markdown",
   "id": "25abee69-85c7-4bf4-ad53-2fff78117a9c",
   "metadata": {},
   "source": [
    "**Lecturer:** *Dr Brian McGinley*   \n",
    "**Module:** *Programming For Data Analysis*   \n",
    "**Author:** *Enda Lynch*    \n",
    "**Github Username:** *Lynch08*   \n",
    "**GMIT Email:** *G003987951@gmit.ie*    \n",
    "**Personal Email:** *elyn@live.ie*   "
   ]
  },
  {
   "cell_type": "markdown",
   "id": "516c4768-ba87-4ac3-adfd-91634d6e9a0e",
   "metadata": {
    "tags": []
   },
   "source": [
    "# 1. Introduction"
   ]
  },
  {
   "cell_type": "markdown",
   "id": "e6ae11c3-8d12-4cf0-9e0b-ad517bb01273",
   "metadata": {},
   "source": [
    "\n",
    "This repository contains all of the files pertaining to my deffered Winter 2021 project submission for the Programming for Data Analysis module of the GMIT H.Dip program in Data Analytics. All of the work contained within this repository was carried out over the course of a 3 week period in August 2022. This Jupyter notebook contains the complete documentation for the project."
   ]
  },
  {
   "cell_type": "markdown",
   "id": "30b9c590-9aa0-46fa-8e78-daecd6e5ef5b",
   "metadata": {
    "tags": []
   },
   "source": [
    "### 1.1 Project objective"
   ]
  },
  {
   "cell_type": "markdown",
   "id": "52967757-b39e-442c-9990-2e4201d6e816",
   "metadata": {
    "tags": []
   },
   "source": [
    "\n",
    "The objective of this project is to synthesise a data set based on some real world phenomenon. This requires investigation in to the phenomenon and then using the numpy.random package in Python to simulated some data based on this. The problem statement for the assignment is as follows :\n",
    "\n",
    "1. Choose a real-world phenomenon that can be measured and for which you could collect at least one-hundred data points across at least four different variables.  \n",
    "2. Investigate the types of variables involved, their likely distributions, and their relationships with each other.  \n",
    "3. Synthesise/simulate a data set as closely matching their properties as possible.  \n",
    "4. Detail your research and implement the simulation in a Jupyter notebook – the data set itself can simply be displayed in an output cell within the notebook. "
   ]
  },
  {
   "cell_type": "markdown",
   "id": "fa7185f3-dd02-4dfe-ad7b-c91b1e2bb9ad",
   "metadata": {},
   "source": [
    "### 1.2 Choice of real world phenomenon"
   ]
  },
  {
   "cell_type": "markdown",
   "id": "3a1a42ac-fe36-43a3-8b84-b423dec866d7",
   "metadata": {},
   "source": [
    "The real world phenomenon I have chosen to analyse is the the sale of mobile phones across the world. As a person who likes to keep up to date with some of the latest gadgets I decided to research some of the top mobile phone sellers on the plant and generate a dataset featuring some sales data for a simulated provider within a city from each of the top 20 countries in the world for smartphone usage.[[1.]](https://newzoo.com/insights/rankings/top-countries-by-smartphone-penetration-and-users)\n",
    "Mobile phones have become a part of our daily lives - almost a part of our anatomy to the point studies have been done on how peoples stress and anxiety can rise and fall depending on how long they have been without their smartphone or how much battery it has left. I would imagine that this trend, although being highlighted by mental health experts as a major issue within our society, will not decrease anytime soon as many of us have become extremely comfortable living a good portion of both our home and work lives online.  \n",
    "The smartphone industry itself has been an extremly lucritive endevor for those companies that have managed to crack into the market - many smartphone providers have come and gone over the years and some brands that owned the \"brick\" mobile era such as Nokia, have not been able to keep up with the technoligical advances of many of the new major smartphone providers like Apple and Samsung.  \n",
    "\n",
    "*\"Less than half of the world’s total population owned a smart device in 2016, but the smartphone penetration rate has continued climbing, reaching 78.05 percent in 2020. By 2025, it is forecast that almost 87 percent of all mobile users in the United States will own a smartphone, an increase from the 27 percent of mobile users in 2010.\"*[[2.]](https://www.statista.com/statistics/263437/global-smartphone-sales-to-end-users-since-2007/)\n",
    "\n",
    "The last two brands I mentioned, Apple and Samsung, are by far the most recognisable of smartphone brands (in the western world at least), and both fall into the top 10 brands on the planet with Apple being No.1 and Samsung being No.8.[[3.]](https://www.forbes.com/the-worlds-most-valuable-brands/#706f578119c0) However it should be noted, that list emcompassess all of apples appliances, including tablets, headphones and other accessories, home computing, gaming and so on. This will be discussed more in the analysis stage.  \n",
    "Much of the global data I used when I was trying to analyse global trends I took from a website called [counterpointresearch](https://www.counterpointresearch.com/global-smartphone-share/) [[4.]](https://www.counterpointresearch.com/global-smartphone-share/) The website was informative and gave me a good indication as to the size of the market share of some of these smartphone providers had on a global scale. I did not really know much about the Chinese designer and manufacturer Xiaomi, but it had a market share that rivaled the other top two aformentioned brands - albeit in a different part of the world. Examining the prices of the top models of each brand would be interesting.  \n",
    "Now that I had picked a dataframe to simulate, I now had to decide what that data should be and how it could be modeled.\n",
    "\n",
    "<img src=\"Images\\Title_Photo.png\" style=\"margin:auto\"/>"
   ]
  },
  {
   "cell_type": "markdown",
   "id": "eabdc238-8517-421b-baa2-64cdc4dd5f7d",
   "metadata": {},
   "source": [
    "### 1.3 Investigate the types of variables involved, their likely distributions, and their relationships with each other."
   ]
  },
  {
   "cell_type": "markdown",
   "id": "3e643542-8642-484d-9eba-162ad8ee5156",
   "metadata": {},
   "source": [
    "First I will do some research on the sales markets and geographic use of smartphones. I will do this research noting the the data that I think would be valuable when deciding the trends and distriubutions that my dataframe should be modeled off. I will try to explore and spot patterns and relationships that may exist between the factors and then try to replicate those relationships into my dataframe to make the data as close to real world data as possible.  \n",
    "This part was daunting as I have alreay talked myself out of using other datasets and information to simulate a dataset as the relationships between the factors simply got extremly complex extremly quickly. For example I am a big NFL fan, but the fact there is so much data, and that coupled with my knowledge of the intracicies of the game, actually hampered me. I felt I was trying to see how I could make every relationship work, and my coding skills are simply not at that level. Similary I thought about doing a Movie database, again I began overthinking and procrastinating over every factor, how it effected other factors and how I could bring in some smart analysis. In the end I wiped the slate and took a topic I was interested in but had no real world knowledge, this allowed me to discover the trends and relationships on the fly and I felt far more at ease making decisions on what I considered to be more important when simulating the data.  \n",
    "Sometimes ignorance is bliss.\n"
   ]
  },
  {
   "cell_type": "markdown",
   "id": "3661fc46-957d-4ab6-b688-e775dddb8a29",
   "metadata": {},
   "source": [
    "### 1.4 Synthesise/simulate a data set as closely matching their properties as possible"
   ]
  },
  {
   "cell_type": "markdown",
   "id": "be3df46e-f493-4012-b6f4-3ba4f22e7dd9",
   "metadata": {},
   "source": [
    "Since I had decided to generate sales data I decided to first think about what data a Smartphone Provider might have in a simple spread sheet. Now as a note, I would like to say that I do understand that these companines most certainly take into account far more from their sales data than I do here, and I am sure they marry it with other analysis such as raw material prices, global economic outlooks, societal trends and a myriad of other factors when making business decisions. But for the sake of this project where the main goal is to create simulated data I am going to create the dataframe as standalone sales data and try to mirror some of the geographic and market share trends that I have read about durning my research.  \n",
    "I had decided I would generate 6 columns of data to begin:\n",
    " - **Order ID** \n",
    " - **Phone Type** \n",
    " - **Quatity Ordered** \n",
    " - **Price Each** \n",
    " - **Order Date** \n",
    " - **Purchased From: Provider_Country_City** \n",
    "\n",
    "I believed each of these columns would be in almost any sales data and for  some of the data in the columns I would be able to explore relationships that may exist between the variables using visualisations such as bar graphs, line plots etc and statistics such as correlation and covariance statistics. Also I made the decision early that if I felt like there was a factor that I felt could be good to expand the data set I could add it in afterwords.  \n",
    "While it might be relatively simple to simulate a single variable, I believe modelling the real-world correlations between the variables will be the real challange of this project. I am already thinking about how am I going to weight each phone/model and then how best to show a real world corrolation as to where and/or when those phones/models were ordered.\n",
    "The time was one I really wanted to get in there as I felt time can be broken down into so many differnt leves, anually/monthly/daily/hourly and by minute, second and nano-seconds if the analysis demands it.\n",
    "\n",
    "With this information in mind, I will try to create a simulated dataset that is as close to the real world investigation as possible.\n",
    "I was now into the stage of how would I like to simulate the data.\n",
    "\n",
    "\n"
   ]
  },
  {
   "cell_type": "markdown",
   "id": "610e22fc-c811-4428-b653-bab5778834bb",
   "metadata": {},
   "source": [
    "### 1.5 Detail your research and implement the simulation in a Jupyter notebook – the data set itself can simply be displayed in an output cell within the notebook."
   ]
  },
  {
   "cell_type": "markdown",
   "id": "7e0ffdeb-b795-4dce-870e-eb014737e29b",
   "metadata": {},
   "source": [
    "The research, simulation and analysis is documented in this Jupyter notebook.  \n",
    "I will first brifely discuss data simulation in general. I then go on to document the research I carried out and note some of the relationships and patterens I want in my dataset while keeping in mind what I had learned about disrtibuions and how the various pyhthon packages, most noteably numpy.random and the random library, could help me simulate the data. I will continue on to show the code and logic I used to simulate the data and how the different variables relate to to my research and more importantly each other. Finally , I will do some analysis into my data frame to see does the data match the real world trends I had researched and attempted to replicate. I would do this using python visualisation libaries such as matplotlib.pyplot and Seaborn and data analysis tool pandas."
   ]
  },
  {
   "cell_type": "markdown",
   "id": "eb7b75be-5de8-41ad-a8d6-39a0940a72f0",
   "metadata": {},
   "source": [
    "# 2. About Data Simulation "
   ]
  },
  {
   "cell_type": "markdown",
   "id": "004f3af2-bbec-4f28-b49e-fda2d9136054",
   "metadata": {},
   "source": [
    "### 2.1 Data Simulation a Brief History"
   ]
  },
  {
   "cell_type": "markdown",
   "id": "4a7581b6-ee56-43f6-b7d5-2f335822f8ed",
   "metadata": {},
   "source": [
    "Simulation has been used throughout history in many fields. In essence the whole theory of simulation is based off one of the founding principles of sentient life, trial and error. Throughout history the \"trial and error\" method was often performed with real-world consequences, eg. medical breakthroughs, weapons testing, chemical testing and so on, were often performed on people or animals or entire ecosystems and environments to gain insight. Because of this, the history of simulation can be written from many perspectives but the benifits of being able to gain insight into a topic using simulated data, that was able to be repetably tested with different tweaks to the tests to see how the outcome changed, is inextricable from the course of human history and in my opinion one of the defining tools that propelled the industrial revolution in the 1800's.\n",
    "For this project we are focused on data simulation and one of the founding simulation methods for data simulation is *The Monte Carlo Methods*. These are a broad class of computational algorithms that rely on repeated random sampling to obtain numerical results. The idea is to use randomness(simulated data) to run repeated tests to solve problems that may be detrministic in principle.[[5.]](https://en.wikipedia.org/wiki/Monte_Carlo_method) This seems very complex, and it certainly is if you begin to dig into the mathimatical principles that govern some of these algorithms, however there does seem to be a logic behind the methods that is comforting, even if you dont really understand it. Of course that comfort only really comes if you trust that the data is truly simulated with all real-world implications considered, and the results obtained from badly simulated data can, and no doubt have, given spurious results with devestating consequences.  \n",
    "Computer simulations, specifcally in the 20th Century, were spured on by the devestation left behind after two world wars and simulation was seen as a tool to try and explain what happend, and more importantly in most cases, to give governments and superpowers a statistial advantage when decision making if these wars reoccured. However the theory of simulation was spreading far beyond military minds.  Here is a quote from a research paper that I thought sumed up the advent of computer simulation nicely: \n",
    "<br>\n",
    "<br>\n",
    "    *\"in the second half of the twentieth century there was a highly fragmented landscape of different actors, questions, goals, and practices rather than a common understanding of “simulation” technology in diverse knowledge domains. Instead, a wide spectrum of mutually unrelated practices which were often, but not always, associated with electronic computers emerged in various disciplinary contexts and were only much later subsumed under the general heading of “computer simulation”. Perhaps even more important is another finding: the “same” computational practices took on distinct epistemic qualities depending on the context of use, disciplinary standards, and background of the protagonists involved.\"*[[6.]](https://link.springer.com/article/10.1007/s00048-019-00227-6)\n",
    "<br>\n",
    "<br>\n",
    "\n",
    "\n",
    "\n",
    "\n",
    " "
   ]
  },
  {
   "cell_type": "markdown",
   "id": "c7c32013-006d-4749-af0e-80499d6cb075",
   "metadata": {},
   "source": [
    "### 2.2 Benifits of Simulated Data "
   ]
  },
  {
   "cell_type": "markdown",
   "id": "f121d499-9583-4d00-bde2-68ca1bddcad8",
   "metadata": {},
   "source": [
    "There are many benifits to using simulated data:  \n",
    "<br>\n",
    "**1. Cost**  \n",
    "Collecting real world data requires time, money and a variety of other resources, whereas simulated data can be simulated quickly and effiecently using computer programs.  \n",
    "**2. Effiency**  \n",
    "Statistical analysis can be performed on the simulated data in advance or after the collection of real data to examine corrolations, this process can be repeated extremely quickly and as many times as required.   \n",
    "**3. Flexability and Repeatability**  \n",
    "Simulations produce multiple sample outcomes. Experiments can be run by modifying inputs and seeing how this changes the output. Generating a random sample can be repeated, which will allow you to see how often you would expect to get the outcomes you get. Repeating the process gives multiple outcomes which can then be averaged across all simulations.  \n",
    "**4. Trend Idenification and Probabilities**  \n",
    " This is often the end goal of creating simulated data - it allows you to identifiy trends and make probablistic assumptions and sometimes decisions based off the analysis of the data.  \n",
    "**5. Education**  \n",
    "This is more of a personal benifit, but I have found that trying to create this dataset has helped me further my critical thinking and problem solving skills and gives me the tools to be more informed on a topic by using simulated data based off real world research.  \n",
    "**6. More Data**  \n",
    "This may seem obvious, but having more data, especially good data is always an asset - if you think there is too much or some is unneccessary it can be easily removed or limit the sample size. Also simulated data can often breed more data as I learned from this project."
   ]
  },
  {
   "cell_type": "markdown",
   "id": "d414d186-fff5-4952-9994-8baabbd75dc7",
   "metadata": {},
   "source": [
    "### 2.3 Real World Applications for Simulated Data "
   ]
  },
  {
   "cell_type": "markdown",
   "id": "e48e26da-e0a7-4632-9a6e-24142a29283a",
   "metadata": {},
   "source": [
    "Data in general has been a hot topic and really in the public domain over the last two decades, and is getting hotter by the moment. Privacy laws are a blur to me, I am not really sure who understands them, but we are all somewhat aware of the belife that our digital data is being harvested with every keystroke we take on our mobile devices from the apps we all love. This is what I like to call \"real world digital data\" - however many companies, for example investment companies can use a sample of this data and extrapolate the long term probabilities of the direction of a start up by using the trends identified from a small sample of user data and simulating growth potential, operational effiencey and a host of other information. Now of course it is not as simple as that, heavy analysis first has to go into the real world digital data, and things like bias, sociatial norms and trends, public opinion and so on all have to be considered when creating predictive models like that, however it is good simulated data that allows those models to give accurate insights and predictions.  \n",
    "It is almost difficult to find an industry these days that has not some how been influenced by data as in most industries the \"if your not first your last\" theory holds through. So if you can break into and industry with an innovative new concept or idea, the outcome is normally extremly lucrative.\n",
    "Here are some industries that have been heavily influenced by statistical analysis of simulated data:\n",
    " - Tech\n",
    " - Social Media\n",
    " - Medicne\n",
    " - Weapons Applications\n",
    " - Election Campaigns\n",
    " - Finance\n",
    " - Advertising\n",
    " - Sport Science\n",
    " - Gambeling\n",
    " - Nutrition\n",
    " - Cosmetics  \n",
    "<br>\n",
    "<br>  \n",
    "Data, real world and simulated, affects almost every facet of our everyday lives and is a cornerstone to many of the innovations (both good and bad) we have seen over the last century throughout our societies."
   ]
  },
  {
   "cell_type": "markdown",
   "id": "4a5cb320-2dcb-4cd0-9706-edd2ed1d8b62",
   "metadata": {},
   "source": [
    "# 3. Investigate the types of variables involved, their likely distributions, and their relationships with each other"
   ]
  },
  {
   "cell_type": "markdown",
   "id": "66dc6efd-3e63-48d6-a931-75bd48645b2d",
   "metadata": {
    "tags": []
   },
   "source": [
    "Here I will explain the method of research I did while gathering information to simulate a data set.  \n",
    "At first I was trawling through dousens of datasets in websites like Kaggle and data.com to find one that jumped out to me that I found interesting. As I said above, sports and movies (surprise surprise) were among my top interests, however I did find my knowlege of those topics did kind of work against me as I was seeing connections and corrolations everywhere when I looked at the data sets and when I tried to do some simple code, it got very complex very quickly as I was trying to be too clever and really intrepret the data through the prisim of what I \"knew\" to be true. This type of hubaris did not last long as it became evident quickly that not only was I over complicating the project, I was also allowing my own experiences and opinions bias how I was planning on simulating the data - I had a preconcieved notion of what I was expecting to see.  \n",
    "Because of this I moved onto a topic that I was interested in, but my knowlege of a specific area of the topic was limitied. However as I am writing this I realise that me moving away from a topic because my bias was complicating it, to the topic on Smartphones, is more than a little ironic as that decision was certainly influenced by the fact I have that device within arms reach almost 24 hours a day. \n",
    "The good new for me was there was a trove of data and research alrady done on the sales of Smartphones on both a macro and micro level.  I began by simply googeling \"Worldwide smartphone sales\". This is a good and bad way to start in my opinion, good in the sense you can get a feel for the information out there, bad in the sense there is so much of it, it can be overwhelming and making good decisions as to what is a credible source and not is important.  As I researched the differnet articles and looked at how different graphs presented different data I decided on what I wanted to the data in dataframe to show and the variables I was going to use in that table.  \n",
    "\n",
    "#### The Variables and their relationships \n",
    "As I said above I had decided I would generate 6 columns of data to begin:\n",
    " - **Order ID:** Unique ID for each purchase - one purchase could include multiple items\n",
    " - **Phone Type:** Brand and Model of Phone\n",
    " - **Quatity Ordered:** Number of Phones orderd (All same type)\n",
    " - **Price Each:** Price of each Model\n",
    " - **Order Date:** Date of order\n",
    " - **Purchased From: Provider_Country_City:** A column with the simulated provider name for each city/country.\n",
    "\n",
    "An order ID is a staple of almost any dataset that involves sales data as it is a unique identifier to link a specific sale to the rest of the variables.  \n",
    "The \"Phone Type\" variable would corrolate with the Price Each variable as each type would have a dedicated price.   \n",
    "The \"Price Each\" and \"Phone Type\" variables would both have to influence the amount of orders there was for a specific phone - those influences would have to be weighted.  \n",
    "The population density would influence the amount of orders from a specifc city, which would mean certain weights would have to be attributed to the distribution frequency of the variable \"Purchased From: Provider_Country_City\".  \n",
    "The order date/time variable would have to be influenced by the time of year, for example  more phones are purchesed between Nov-Jan rather than any other time of the year as phones are often given as Christmas presents to the young people, and people often wait until the after christmas sales to make a big technological purchase as they may get a deal on a slighly older model.  \n",
    "\n",
    "Here are some of the facts and stats I based my data from:  \n",
    "I used this site: https://worldpopulationreview.com/world-cities to get the populations of the cites in order to weight the volume of phones purchased by a particular provider in a city.  \n",
    "I also decided to weight the orders by time of year, so more orders would happen around the christmas period.  \n",
    "I also gained insight into the sales trends and market shares using an extremly good site https://gs.statcounter.com/vendor-market-share/mobile/worldwide/#monthly-201907-202207, where I was able to input a month (Back as far as Jan 2007) and end month (to July 2022) and it would give me a graph that displayed the market share a particular provided over time.\n",
    "<br>\n",
    "See an example below:\n",
    "<br>\n",
    "<br>\n",
    "![Image](Images\\StatCounter-vendor-ww-monthly-201407-202207.png)\n",
    "<br>\n",
    "<br>\n",
    "\n",
    "This was really interesting as you can see from the graph Samsung had a pretty solid grasp over the market up to 3 years ago - however in the last 2 years Apple has gained a lot of momentum and even surpassed Samsungs share during the end of the 3rd quarter of 2021 (the iPhone 13 was released September 24 2021) - there is a battle for supremacy in the smaprtphone market as we speak.  \n",
    "I was able to play around with this graph and research the trends over different periods.\n",
    "One thing I did notice was that in early 2017 almost all other providers market share dropped, Apple and Samsung were the clear leaders, and the only other provider that was really making any significent positive trends was Xaomi. My simulated data would have to try to reflect this stranglehold the top two companies have on the market.\n"
   ]
  },
  {
   "cell_type": "markdown",
   "id": "ae9b0eeb-dfa1-445b-864c-c0dcdebf97d2",
   "metadata": {},
   "source": [
    "# 4. Synthesise/simulate a data set as closely matching their properties as possible"
   ]
  },
  {
   "cell_type": "markdown",
   "id": "28bc3868-0e52-41a2-8053-27bcdbddd3f2",
   "metadata": {},
   "source": [
    "Now using the information I had gathered I would begin simulating the data."
   ]
  },
  {
   "cell_type": "markdown",
   "id": "54cdbf35-67f4-4522-bb41-ae5ae19132d0",
   "metadata": {
    "tags": []
   },
   "source": [
    "### 4.1 Python Libraries  \n",
    "First I would import the libaries I knew I would need - This list began with what I knew I would require, pandas, numpy, random, matplotlib and datetime. The others like calandar, glob, os and seaborn were added as required."
   ]
  },
  {
   "cell_type": "code",
   "execution_count": 1,
   "id": "4037df3e-13c1-4eca-99b2-bc7a27cc95c5",
   "metadata": {},
   "outputs": [],
   "source": [
    "# Data analysis and manipulation tool with import and export capabilities\n",
    "import pandas as pd\n",
    "\n",
    "# Comprehensive mathematical functions, random number generators\n",
    "import numpy as np\n",
    "\n",
    "# Implements pseudo-random number generators\n",
    "import random\n",
    "\n",
    "# Supplies classes for manipulating dates and times\n",
    "import datetime as dt\n",
    "\n",
    "# General calendar-related functions\n",
    "import calendar\n",
    "\n",
    "# Miscellaneous operating system interfaces\n",
    "import os\n",
    "\n",
    "# Unix style pathname pattern expansion - Helps load data using all filepaths\n",
    "import glob\n",
    "\n",
    "# Various time-related functions\n",
    "import time\n",
    "\n",
    "# A data visualization library \n",
    "import seaborn as sns\n",
    "\n",
    "# Plots data points and generates graphs\n",
    "import matplotlib.pyplot as plt\n"
   ]
  },
  {
   "cell_type": "code",
   "execution_count": null,
   "id": "f41f0c68-4cf4-4895-9613-4e3135d1225a",
   "metadata": {},
   "outputs": [],
   "source": []
  },
  {
   "cell_type": "markdown",
   "id": "11ca53c7-a7e9-44aa-908f-9f90436b8d4d",
   "metadata": {
    "tags": []
   },
   "source": [
    "### 4.2 Code"
   ]
  },
  {
   "cell_type": "markdown",
   "id": "595ce081-7117-43cb-ae09-413ea6d17a25",
   "metadata": {},
   "source": [
    "First code here is to create the headings for each column."
   ]
  },
  {
   "cell_type": "code",
   "execution_count": 2,
   "id": "9136e553-ea92-44bd-9763-cfd7c35e7180",
   "metadata": {
    "tags": []
   },
   "outputs": [],
   "source": [
    "# Columns for Dataframe\n",
    "columns = ['Order ID', 'Phone', 'Quatity Ordered', 'Price Each', 'Order Date', 'Provider_City_Country']"
   ]
  },
  {
   "cell_type": "markdown",
   "id": "daabe867-e27b-448a-be76-642e9c8a90b3",
   "metadata": {},
   "source": [
    "Below I then gave the name of the top 3 phones from each provider - I did take some libarties here with the names and if I couldnt figure out which were the top sellers I used some discression with the names. These phones each had a price for each phone and a weight which would determine possibility for each phone being choosen."
   ]
  },
  {
   "cell_type": "code",
   "execution_count": 3,
   "id": "b12780c7-dba9-4e1a-b351-0b27039cb095",
   "metadata": {},
   "outputs": [],
   "source": [
    "#phone: [Price, Weight (1-12, 12 being the most frequntly purchased)]\n",
    "# If a weights sequence is specified, selections are made according to the relative weights\n",
    "phones = { 'iPhone 13':[1000, 12],\n",
    "          'iPhone 12':[700,11],\n",
    "          'Samsung Galexy S22':[1100,10],\n",
    "          'Samsung Galexy S21':[800,9],\n",
    "          'Samsung Galexy S10':[300,7],\n",
    "          'Xiaomi 12 Pro': [900, 10],\n",
    "          'Xiaomi Redmi Note 11 Pro 5G': [350, 11],\n",
    "          'Xiaomi Redmi Note 10 Pro 5G': [200, 10],\n",
    "          'Huawei - 1':[550, 7],\n",
    "          'Huawei - 2':[350, 8],\n",
    "          'Huawei - 3':[200, 5],\n",
    "          'Nokia c200':[400,4],\n",
    "          'Google Android': [500,5],\n",
    "          'Google Pixal - 1': [700,6],\n",
    "          'Google Pixal - 2': [900,8],\n",
    "          'iPhone 11':[500, 7],\n",
    "          'Sony Xperia 20':[800,6],\n",
    "          'Sony Xperia 10':[700,5],\n",
    "          'Sony Xperia 5':[450,4],\n",
    "          'Nokia c100':[200,2],\n",
    "          'Nokia c300':[600,5]}"
   ]
  },
  {
   "cell_type": "markdown",
   "id": "8e5f3081-5de0-4d0f-827c-cf20478854eb",
   "metadata": {},
   "source": [
    "Then below here I created a function to generate data for the 'Provider_City_Country' column. I made this a bit over complicated.  \n",
    "I had the idea to give the address the order actually came from first rather than the provider that sold it. I had planned to generate lists of random addresses and I could have done this but with the market data I had researched I felt that the provider would be better. So I kept the function and basically concatonated the lists I had created but used the \"index\" variable to weight their probability.  \n",
    "I weighted the data I had created by using the population data I had refrenced in section 3."
   ]
  },
  {
   "cell_type": "code",
   "execution_count": 4,
   "id": "9e4f0d21-429c-4b98-a9ea-e5a5bba8dc87",
   "metadata": {},
   "outputs": [],
   "source": [
    "#generate the names of the 'Provider_City_Country' column\n",
    "def gen_random_country_city():\n",
    "    \n",
    "    companies = ['Provider_1','Provider_2','Provider_3','Provider_4','Provider_5','Provider_6','Provider_7','Provider_8','Provider_9','Provider_10',\n",
    "               'Provider_11','Provider_12','Provider_13','Provider_14','Provider_15','Provider_16','Provider_17','Provider_18','Provider_19','Provider_20']\n",
    "    countries = [\"China\",\"India\",\"United States\",\"Indonesia\",\"Brazil\",\"Russia\",\"Japan\",\"Mexico\",\"Nigeria\",\"Philippines\",\n",
    "              \"Germany\",\"Vietnam\",\"Bangladesh\",\"Turkey\",\"Iran\",\"Egypt\",\"Pakistan\",\"Thailand\",\"Italy\",\"South Africa\"]\n",
    "    weights = [30, 29, 26, 26, 25, 23, 20, 19, 18, 18, 18, 16, 16, 15, 15, 14, 12, 11, 10, 10]\n",
    "    cities = [\"Beijing\",\"Delhi\",\"Boston\",\"Jakarta\",\"Sao Paulo\",\"Moscow\",\"Yokohama\",\"Mexico City\",\"Lagos\",\"Manila\",\n",
    "            \"Munich\",\"Hanoi\",\"Dhaka\",\"Ankara\",\"Isfahan\",\"Giza\",\"Islamabad\",\"Bangkok\",\"Milan\",\"Durban\"]\n",
    "    \n",
    "    # Chose the input for each order passing in the weights that were attributed to each country\n",
    "    index = random.choices(range(len(countries)), weights = weights)[0]\n",
    "    \n",
    "    # Concatonate the provider_city_country and return the object\n",
    "    return f\"{companies[index]},{cities[index]}, {countries[index]}\"\n",
    "    \n"
   ]
  },
  {
   "cell_type": "markdown",
   "id": "94e16eca-e036-4d58-aea2-dd1fa00a917d",
   "metadata": {},
   "source": [
    "Here I created a function to generate a random date/time from the numerical value of a month.  \n",
    "The function first gets passed a number from 1-12 signifing the month.  \n",
    "Then it gets the number of days in a specific month of a given year and selects one of those values to return a random day.  \n",
    "From that it generates a date combining the year/month/the random day generated and generates a time using 12 midday and 8pm as the points at which the data is generated using a normal distribution around each day. I chose 12pm and 8pm as most orders are now done online, so many company orders happen around the middle of the work day 12pm and many personal orders happen after working hours 8pm.  \n",
    "Finally the function returns the final date combined with the time(randomly calculated with the offset) in the specified format. \n"
   ]
  },
  {
   "cell_type": "code",
   "execution_count": 5,
   "id": "968955db-b7c4-4ef4-950f-6971ae2fde40",
   "metadata": {},
   "outputs": [],
   "source": [
    "#genderate random date/time in dd/mm/yyyy hh:mm\n",
    "\n",
    "    # Pass in the month to the function\n",
    "def generate_random_dt(month):\n",
    "    \n",
    "    # Get the number of days in a month in 2021\n",
    "    day_range = calendar.monthrange(2021,month)[1]\n",
    "    \n",
    "    # Select a random day from the number of days in a given month\n",
    "    random_day = random.randint(1, day_range)\n",
    "    \n",
    "    # set distribution around certain times\n",
    "    if random.random() < 0.5:\n",
    "        date = dt.datetime(2021,month, random_day, 12, 0)\n",
    "    else:\n",
    "        date = dt.datetime(2021,month, random_day, 20, 0)\n",
    "        \n",
    "    # add no time on average to the object created\n",
    "    # but have a standard diviation of 180 mins around the midday and 8pm\n",
    "    time_offset = np.random.normal(loc=0, scale = 180)\n",
    "    \n",
    "    # Adding the offset in minutes to generate the random time\n",
    "    final_date = date + dt.timedelta(minutes=time_offset)\n",
    "    \n",
    "    # Returns date in required format\n",
    "    return final_date.strftime(\"%d/%m/%y %H:%M \")\n"
   ]
  },
  {
   "cell_type": "markdown",
   "id": "d08250f0-1f49-4e57-9437-1f7e1cc711d0",
   "metadata": {},
   "source": [
    "In the cell below I am returning the list of phone names and their weights in differnt variable so I can pass them into the main data simulation block later."
   ]
  },
  {
   "cell_type": "code",
   "execution_count": 6,
   "id": "0bf709ab-b68a-403e-8c17-16f1af0b1b6d",
   "metadata": {},
   "outputs": [],
   "source": [
    "#get names of phones using key\n",
    "phone_list = [phone for phone in phones]\n",
    "\n",
    "# List comprehension to get the values of the weights from the first index\n",
    "weights = [phones[phone][1] for phone in phones]"
   ]
  },
  {
   "cell_type": "markdown",
   "id": "bd8d3175-194e-4cce-8788-982afce017a2",
   "metadata": {},
   "source": [
    "Below is the main simulation code.  \n",
    "First I create a random order id - this can be any number.  \n",
    "Next I have some code commented out - this is if you are running the notebook for the first time or you want to delete the existing data and simulate more. Uncomment the os.mkdir command if you wish to create a Monthly_Data folder to put your data.  \n",
    "Then I use a \"for\" loop to determine the simulated amount of values I want for each month.  I scale up around Christmas (Nov & Dec) and January to repersent the bump in sales around that time both because of the holidays and the release of the Iphone 13.  \n",
    "I then use a \"for\" loop to input generated data for each order generated in a given month. It uses the variables and functions I created above to fill in simulated data in the 'Phone', 'Price Each', 'Order Date' and 'Provider_City_Country' using the weighs and distribution I specified.  \n",
    "It uses a seperate distribution function \"numpy.random.geometric\" to generate the amount of phones purchased in an indiviual order and simulate the data for 'Quatity Ordered'. The geometric distribution models the number of trials that must be run in order to achieve success. Here I was giving cheaper phones a slighly better chance of being bought as part of a multiple. This is because companies typically buy some cheaper models in a bunch and parents often buy multiple of the same cheaper models for their children to avoid jealousy and agruing between sibilings. Also it is not uncommon for criminals to buy cheaper, more \"disposable\" phones in bunches.  \n",
    "I simulate the 'Order ID' data by simpily adding 1 to the order_id in the previous entry using the \"for\" loop.  \n",
    "Finally I output all the data into 12 seperate CSV files in a folder called \"Monthly_Data\" using the month name to distingish the data in each file - this cell may take up to 60 seconds to run - the amount of data simulated can be increased or decreased by changing the \"loc\" parameter when creating the orders_amt variable."
   ]
  },
  {
   "cell_type": "code",
   "execution_count": 49,
   "id": "eabe7ae0-08aa-4da9-8de3-a624e5e9810a",
   "metadata": {},
   "outputs": [],
   "source": [
    "\n",
    "# First order ID - Starting value\n",
    "order_id = 124554\n",
    "\n",
    "# Uncomment line below if Folder \"Monthly_Data\" does not exist in target folder\n",
    "#### os.mkdir('Monthly_Data')\n",
    "\n",
    "\n",
    "\n",
    "# Generate the amount of rows per month using if statement to create a distribution that would show \n",
    "# phone sales increase over Christmas (Nov & Dec) and the January Sales\n",
    "\n",
    "        # Block of code below is a For Loop to generate the number of orders for each month.\n",
    "        # In conjunction with an IF Statement it is using a \"Normal\" Distribution generating values that\n",
    "        # are centered around the \"loc\" parameter with the \"scale\" parameter representing the standard diviation\n",
    "for month_val in range (1,13):\n",
    "    \n",
    "    # For Jan\n",
    "    if month_val == 1:\n",
    "        orders_amt = int(np.random.normal(loc=4000, scale=300))\n",
    "    # Feb-->Oct\n",
    "    if month_val >1 <= 10  :\n",
    "        orders_amt = int(np.random.normal(loc=3000, scale=100))\n",
    "    # Nov\n",
    "    if month_val == 11:\n",
    "        orders_amt = int(np.random.normal(loc=3800, scale=300 ))\n",
    "    # Dec\n",
    "    if month_val == 12:\n",
    "        orders_amt = int(np.random.normal(loc=5000, scale=200))\n",
    "        \n",
    "    # Set the column names for the df of each month\n",
    "    df = pd.DataFrame(columns = columns)\n",
    "    \n",
    "    \n",
    "    # generating the data for each variable in each monthly df\n",
    "    # For Loop to generate data for as many rows as there is orders\n",
    "    for i in range(orders_amt):\n",
    "        \n",
    "        # generating the list of providers\n",
    "        location = gen_random_country_city()\n",
    "        \n",
    "        #generating a list of random dates for each month\n",
    "        date = generate_random_dt(month_val)\n",
    "        \n",
    "        # Takes a random choice from the list of phones and passes in the the weights variable to determine the probability of the selection\n",
    "        phone = random.choices(phone_list, weights = weights)[0]\n",
    "        \n",
    "        # Genderating the price - uses the phone variable to get the corrosponding price\n",
    "        price = phones[phone][0]\n",
    "        \n",
    "        # Using a geometric distribution to simulated the quanties \n",
    "        # of a particular phone ordered in an indivudual order based on Price\n",
    "        quantity_ordered = np.random.geometric(p=.6-(1.0/price), size=1)[0]\n",
    "        \n",
    "        # Adding the simulated data of each variable to each row \n",
    "        df.loc[i] = [order_id, phone, quantity_ordered, price, date, location]\n",
    "        \n",
    "        # Increase order_ID by 1 for ever order (Loop)\n",
    "        order_id += 1\n",
    "        \n",
    "    # Get the name of the month from the numerical month value\n",
    "    month_name = calendar.month_name[month_val]\n",
    "    \n",
    "    # Generate a CSV for each month \n",
    "    df.to_csv( f\"C:/Users/elyn/Documents/ProgDA/Monthly_Data/{month_name}_data.csv\", index=False)\n",
    "\n"
   ]
  },
  {
   "cell_type": "markdown",
   "id": "954dbc49-7bc0-4a05-85fc-c5aa2bf6672d",
   "metadata": {},
   "source": [
    "Below I merge all the simulated monthly data into one dataframe called annual_df and you can output the entire dataframe to a CSV called \"Annual_data.csv\" if you uncomment the very last line in the cell."
   ]
  },
  {
   "cell_type": "code",
   "execution_count": 50,
   "id": "2d51ed80-da06-4b3a-80b3-094f4325c887",
   "metadata": {},
   "outputs": [],
   "source": [
    "\n",
    "# get data file names\n",
    "path =r'C:\\Users\\elyn\\Documents\\ProgDA\\Monthly_Data'\n",
    "filenames = glob.glob(path + \"/*.csv\")\n",
    "\n",
    "dfs = []\n",
    "for filename in filenames:\n",
    "    dfs.append(pd.read_csv(filename))\n",
    "\n",
    "# Concatenate all data into one DataFrame\n",
    "annual_df = pd.concat(dfs, ignore_index=True)\n",
    "\n",
    "# Output full dataframe into a file called \"Annual_data.csv\"\n",
    "#annual_df.to_csv(\"Annual_data.csv\", index=False)"
   ]
  },
  {
   "cell_type": "code",
   "execution_count": 51,
   "id": "ec242cbc-12cc-4e97-b6b0-2e7f5db9c911",
   "metadata": {},
   "outputs": [
    {
     "data": {
      "text/html": [
       "<div>\n",
       "<style scoped>\n",
       "    .dataframe tbody tr th:only-of-type {\n",
       "        vertical-align: middle;\n",
       "    }\n",
       "\n",
       "    .dataframe tbody tr th {\n",
       "        vertical-align: top;\n",
       "    }\n",
       "\n",
       "    .dataframe thead th {\n",
       "        text-align: right;\n",
       "    }\n",
       "</style>\n",
       "<table border=\"1\" class=\"dataframe\">\n",
       "  <thead>\n",
       "    <tr style=\"text-align: right;\">\n",
       "      <th></th>\n",
       "      <th>Order ID</th>\n",
       "      <th>Phone</th>\n",
       "      <th>Quatity Ordered</th>\n",
       "      <th>Price Each</th>\n",
       "      <th>Order Date</th>\n",
       "      <th>Provider_City_Country</th>\n",
       "    </tr>\n",
       "  </thead>\n",
       "  <tbody>\n",
       "    <tr>\n",
       "      <th>0</th>\n",
       "      <td>134748</td>\n",
       "      <td>Xiaomi Redmi Note 10 Pro 5G</td>\n",
       "      <td>1</td>\n",
       "      <td>200</td>\n",
       "      <td>07/04/21 23:08</td>\n",
       "      <td>Provider_9,Lagos, Nigeria</td>\n",
       "    </tr>\n",
       "    <tr>\n",
       "      <th>1</th>\n",
       "      <td>134749</td>\n",
       "      <td>iPhone 13</td>\n",
       "      <td>4</td>\n",
       "      <td>1000</td>\n",
       "      <td>04/04/21 11:53</td>\n",
       "      <td>Provider_9,Lagos, Nigeria</td>\n",
       "    </tr>\n",
       "    <tr>\n",
       "      <th>2</th>\n",
       "      <td>134750</td>\n",
       "      <td>Xiaomi Redmi Note 11 Pro 5G</td>\n",
       "      <td>2</td>\n",
       "      <td>350</td>\n",
       "      <td>18/04/21 21:08</td>\n",
       "      <td>Provider_17,Islamabad, Pakistan</td>\n",
       "    </tr>\n",
       "    <tr>\n",
       "      <th>3</th>\n",
       "      <td>134751</td>\n",
       "      <td>Google Pixal - 2</td>\n",
       "      <td>1</td>\n",
       "      <td>900</td>\n",
       "      <td>15/04/21 17:26</td>\n",
       "      <td>Provider_11,Munich, Germany</td>\n",
       "    </tr>\n",
       "    <tr>\n",
       "      <th>4</th>\n",
       "      <td>134752</td>\n",
       "      <td>Samsung Galexy S10</td>\n",
       "      <td>1</td>\n",
       "      <td>300</td>\n",
       "      <td>21/04/21 05:18</td>\n",
       "      <td>Provider_14,Ankara, Turkey</td>\n",
       "    </tr>\n",
       "    <tr>\n",
       "      <th>5</th>\n",
       "      <td>134753</td>\n",
       "      <td>Samsung Galexy S22</td>\n",
       "      <td>2</td>\n",
       "      <td>1100</td>\n",
       "      <td>03/04/21 12:37</td>\n",
       "      <td>Provider_2,Delhi, India</td>\n",
       "    </tr>\n",
       "    <tr>\n",
       "      <th>6</th>\n",
       "      <td>134754</td>\n",
       "      <td>Google Pixal - 1</td>\n",
       "      <td>2</td>\n",
       "      <td>700</td>\n",
       "      <td>19/04/21 18:58</td>\n",
       "      <td>Provider_4,Jakarta, Indonesia</td>\n",
       "    </tr>\n",
       "    <tr>\n",
       "      <th>7</th>\n",
       "      <td>134755</td>\n",
       "      <td>Sony Xperia 20</td>\n",
       "      <td>1</td>\n",
       "      <td>800</td>\n",
       "      <td>08/04/21 15:33</td>\n",
       "      <td>Provider_4,Jakarta, Indonesia</td>\n",
       "    </tr>\n",
       "    <tr>\n",
       "      <th>8</th>\n",
       "      <td>134756</td>\n",
       "      <td>Xiaomi Redmi Note 11 Pro 5G</td>\n",
       "      <td>2</td>\n",
       "      <td>350</td>\n",
       "      <td>03/04/21 11:50</td>\n",
       "      <td>Provider_17,Islamabad, Pakistan</td>\n",
       "    </tr>\n",
       "    <tr>\n",
       "      <th>9</th>\n",
       "      <td>134757</td>\n",
       "      <td>Xiaomi Redmi Note 10 Pro 5G</td>\n",
       "      <td>2</td>\n",
       "      <td>200</td>\n",
       "      <td>10/04/21 12:28</td>\n",
       "      <td>Provider_4,Jakarta, Indonesia</td>\n",
       "    </tr>\n",
       "  </tbody>\n",
       "</table>\n",
       "</div>"
      ],
      "text/plain": [
       "   Order ID                        Phone  Quatity Ordered  Price Each  \\\n",
       "0    134748  Xiaomi Redmi Note 10 Pro 5G                1         200   \n",
       "1    134749                    iPhone 13                4        1000   \n",
       "2    134750  Xiaomi Redmi Note 11 Pro 5G                2         350   \n",
       "3    134751             Google Pixal - 2                1         900   \n",
       "4    134752           Samsung Galexy S10                1         300   \n",
       "5    134753           Samsung Galexy S22                2        1100   \n",
       "6    134754             Google Pixal - 1                2         700   \n",
       "7    134755               Sony Xperia 20                1         800   \n",
       "8    134756  Xiaomi Redmi Note 11 Pro 5G                2         350   \n",
       "9    134757  Xiaomi Redmi Note 10 Pro 5G                2         200   \n",
       "\n",
       "        Order Date            Provider_City_Country  \n",
       "0  07/04/21 23:08         Provider_9,Lagos, Nigeria  \n",
       "1  04/04/21 11:53         Provider_9,Lagos, Nigeria  \n",
       "2  18/04/21 21:08   Provider_17,Islamabad, Pakistan  \n",
       "3  15/04/21 17:26       Provider_11,Munich, Germany  \n",
       "4  21/04/21 05:18        Provider_14,Ankara, Turkey  \n",
       "5  03/04/21 12:37           Provider_2,Delhi, India  \n",
       "6  19/04/21 18:58     Provider_4,Jakarta, Indonesia  \n",
       "7  08/04/21 15:33     Provider_4,Jakarta, Indonesia  \n",
       "8  03/04/21 11:50   Provider_17,Islamabad, Pakistan  \n",
       "9  10/04/21 12:28     Provider_4,Jakarta, Indonesia  "
      ]
     },
     "execution_count": 51,
     "metadata": {},
     "output_type": "execute_result"
    }
   ],
   "source": [
    "\n",
    "#See first 10 rows of Simulated data\n",
    "annual_df.head(10)"
   ]
  },
  {
   "cell_type": "code",
   "execution_count": 52,
   "id": "27f4079c-cb54-467d-8970-b2f6ce8d7846",
   "metadata": {},
   "outputs": [
    {
     "data": {
      "text/plain": [
       "Order ID                  int64\n",
       "Phone                    object\n",
       "Quatity Ordered           int64\n",
       "Price Each                int64\n",
       "Order Date               object\n",
       "Provider_City_Country    object\n",
       "dtype: object"
      ]
     },
     "execution_count": 52,
     "metadata": {},
     "output_type": "execute_result"
    }
   ],
   "source": [
    "#Check the datatypes of each of the variables\n",
    "annual_df.dtypes"
   ]
  },
  {
   "cell_type": "code",
   "execution_count": 53,
   "id": "87f0d422-b884-4bcf-8427-c0a074ba0662",
   "metadata": {},
   "outputs": [
    {
     "data": {
      "text/html": [
       "<div>\n",
       "<style scoped>\n",
       "    .dataframe tbody tr th:only-of-type {\n",
       "        vertical-align: middle;\n",
       "    }\n",
       "\n",
       "    .dataframe tbody tr th {\n",
       "        vertical-align: top;\n",
       "    }\n",
       "\n",
       "    .dataframe thead th {\n",
       "        text-align: right;\n",
       "    }\n",
       "</style>\n",
       "<table border=\"1\" class=\"dataframe\">\n",
       "  <thead>\n",
       "    <tr style=\"text-align: right;\">\n",
       "      <th></th>\n",
       "      <th>Order ID</th>\n",
       "      <th>Quatity Ordered</th>\n",
       "      <th>Price Each</th>\n",
       "    </tr>\n",
       "  </thead>\n",
       "  <tbody>\n",
       "    <tr>\n",
       "      <th>count</th>\n",
       "      <td>40453.000000</td>\n",
       "      <td>40453.000000</td>\n",
       "      <td>40453.000000</td>\n",
       "    </tr>\n",
       "    <tr>\n",
       "      <th>mean</th>\n",
       "      <td>144780.000000</td>\n",
       "      <td>1.676291</td>\n",
       "      <td>626.433145</td>\n",
       "    </tr>\n",
       "    <tr>\n",
       "      <th>std</th>\n",
       "      <td>11677.919556</td>\n",
       "      <td>1.062704</td>\n",
       "      <td>275.970821</td>\n",
       "    </tr>\n",
       "    <tr>\n",
       "      <th>min</th>\n",
       "      <td>124554.000000</td>\n",
       "      <td>1.000000</td>\n",
       "      <td>200.000000</td>\n",
       "    </tr>\n",
       "    <tr>\n",
       "      <th>25%</th>\n",
       "      <td>134667.000000</td>\n",
       "      <td>1.000000</td>\n",
       "      <td>350.000000</td>\n",
       "    </tr>\n",
       "    <tr>\n",
       "      <th>50%</th>\n",
       "      <td>144780.000000</td>\n",
       "      <td>1.000000</td>\n",
       "      <td>700.000000</td>\n",
       "    </tr>\n",
       "    <tr>\n",
       "      <th>75%</th>\n",
       "      <td>154893.000000</td>\n",
       "      <td>2.000000</td>\n",
       "      <td>900.000000</td>\n",
       "    </tr>\n",
       "    <tr>\n",
       "      <th>max</th>\n",
       "      <td>165006.000000</td>\n",
       "      <td>12.000000</td>\n",
       "      <td>1100.000000</td>\n",
       "    </tr>\n",
       "  </tbody>\n",
       "</table>\n",
       "</div>"
      ],
      "text/plain": [
       "            Order ID  Quatity Ordered    Price Each\n",
       "count   40453.000000     40453.000000  40453.000000\n",
       "mean   144780.000000         1.676291    626.433145\n",
       "std     11677.919556         1.062704    275.970821\n",
       "min    124554.000000         1.000000    200.000000\n",
       "25%    134667.000000         1.000000    350.000000\n",
       "50%    144780.000000         1.000000    700.000000\n",
       "75%    154893.000000         2.000000    900.000000\n",
       "max    165006.000000        12.000000   1100.000000"
      ]
     },
     "execution_count": 53,
     "metadata": {},
     "output_type": "execute_result"
    }
   ],
   "source": [
    "annual_df.describe()"
   ]
  },
  {
   "cell_type": "markdown",
   "id": "f92bef85-a1d2-4b5f-967b-24449376870c",
   "metadata": {},
   "source": [
    "### Add more columns for Analysis from simulated data"
   ]
  },
  {
   "cell_type": "markdown",
   "id": "844caed3-9e76-4b36-9ee7-321b11ddaab4",
   "metadata": {},
   "source": [
    "Looking at the data I had now simulated I noticed that I could make the analysis section of this project a little easier if I used the existing data to generate more data. So I created a variable Sales whic was the quantity of phones from a specific order multiplied by the price \n"
   ]
  },
  {
   "cell_type": "code",
   "execution_count": 54,
   "id": "a08623d5-3833-483e-a9f4-308811c52fa0",
   "metadata": {},
   "outputs": [],
   "source": [
    "annual_df['Quatity Ordered'] = annual_df['Quatity Ordered'].astype('int32')\n",
    "annual_df['Price Each'] = annual_df['Price Each'].astype('int32')\n",
    "\n",
    "# Variable to get the full price of an order\n",
    "Sales = (annual_df['Quatity Ordered']) * (annual_df['Price Each'])\n"
   ]
  },
  {
   "cell_type": "markdown",
   "id": "6c898bf6-3803-4f82-9f63-ca280b3c0273",
   "metadata": {},
   "source": [
    "However here I decided that normally there are deals with these companies if you purchase more than 1 of these items during the one order. So I added 4 more columns, 'No Discount - Single Purchase' - for an individul sale, 'Sales_Less_Discount(8%)' discount for a sale of 2 or 3 phones, 'Sales_Less_Discount(15%)' - discount on the purchase of 4 or more phones and 'All sales' - column for all sales.\n",
    "I hadnt really planned on creating this data but I felt it was a good way to show how you could create more simulated data off the originally created data. This data could be used for comparision of Acutal vs Simulation or if analysed correctly could give an indication of at what point the discount starts to become diminishing returns."
   ]
  },
  {
   "cell_type": "code",
   "execution_count": 55,
   "id": "7d9a20b0-1882-4e2e-8cd0-e5ac55146946",
   "metadata": {},
   "outputs": [],
   "source": [
    "# Generate data based off origial simulated data\n",
    "\n",
    "# individual sale - no discount\n",
    "annual_df.loc[annual_df['Quatity Ordered'] == 1, 'No Discount - Single Purchase'] = Sales\n",
    "\n",
    "# sale of 2 or 3 - 8% off total price\n",
    "annual_df.loc[annual_df['Quatity Ordered'] == 2, 'Sales_Less_Discount(8%)'] = (Sales/100) * 92\n",
    "annual_df.loc[annual_df['Quatity Ordered'] == 3, 'Sales_Less_Discount(8%)'] = (Sales/100) * 92\n",
    "\n",
    "# sale of 4 or more - 15% off total price\n",
    "annual_df.loc[annual_df['Quatity Ordered'] >= 4, 'Sales_Less_Discount(15%)'] = (Sales/100) * 85\n",
    "\n",
    "# All sales data in one column - use 0 where NaN is found\n",
    "annual_df['All sales'] = annual_df.fillna(0)['No Discount - Single Purchase'] + annual_df.fillna(0)['Sales_Less_Discount(8%)'] + annual_df.fillna(0)['Sales_Less_Discount(15%)']"
   ]
  },
  {
   "cell_type": "code",
   "execution_count": 56,
   "id": "792f48f8-454b-46fd-a20d-44423a62b38d",
   "metadata": {},
   "outputs": [
    {
     "data": {
      "text/html": [
       "<div>\n",
       "<style scoped>\n",
       "    .dataframe tbody tr th:only-of-type {\n",
       "        vertical-align: middle;\n",
       "    }\n",
       "\n",
       "    .dataframe tbody tr th {\n",
       "        vertical-align: top;\n",
       "    }\n",
       "\n",
       "    .dataframe thead th {\n",
       "        text-align: right;\n",
       "    }\n",
       "</style>\n",
       "<table border=\"1\" class=\"dataframe\">\n",
       "  <thead>\n",
       "    <tr style=\"text-align: right;\">\n",
       "      <th></th>\n",
       "      <th>Order ID</th>\n",
       "      <th>Phone</th>\n",
       "      <th>Quatity Ordered</th>\n",
       "      <th>Price Each</th>\n",
       "      <th>Order Date</th>\n",
       "      <th>Provider_City_Country</th>\n",
       "      <th>No Discount - Single Purchase</th>\n",
       "      <th>Sales_Less_Discount(8%)</th>\n",
       "      <th>Sales_Less_Discount(15%)</th>\n",
       "      <th>All sales</th>\n",
       "    </tr>\n",
       "  </thead>\n",
       "  <tbody>\n",
       "    <tr>\n",
       "      <th>0</th>\n",
       "      <td>134748</td>\n",
       "      <td>Xiaomi Redmi Note 10 Pro 5G</td>\n",
       "      <td>1</td>\n",
       "      <td>200</td>\n",
       "      <td>07/04/21 23:08</td>\n",
       "      <td>Provider_9,Lagos, Nigeria</td>\n",
       "      <td>200.0</td>\n",
       "      <td>NaN</td>\n",
       "      <td>NaN</td>\n",
       "      <td>200.0</td>\n",
       "    </tr>\n",
       "    <tr>\n",
       "      <th>1</th>\n",
       "      <td>134749</td>\n",
       "      <td>iPhone 13</td>\n",
       "      <td>4</td>\n",
       "      <td>1000</td>\n",
       "      <td>04/04/21 11:53</td>\n",
       "      <td>Provider_9,Lagos, Nigeria</td>\n",
       "      <td>NaN</td>\n",
       "      <td>NaN</td>\n",
       "      <td>3400.0</td>\n",
       "      <td>3400.0</td>\n",
       "    </tr>\n",
       "    <tr>\n",
       "      <th>2</th>\n",
       "      <td>134750</td>\n",
       "      <td>Xiaomi Redmi Note 11 Pro 5G</td>\n",
       "      <td>2</td>\n",
       "      <td>350</td>\n",
       "      <td>18/04/21 21:08</td>\n",
       "      <td>Provider_17,Islamabad, Pakistan</td>\n",
       "      <td>NaN</td>\n",
       "      <td>644.0</td>\n",
       "      <td>NaN</td>\n",
       "      <td>644.0</td>\n",
       "    </tr>\n",
       "    <tr>\n",
       "      <th>3</th>\n",
       "      <td>134751</td>\n",
       "      <td>Google Pixal - 2</td>\n",
       "      <td>1</td>\n",
       "      <td>900</td>\n",
       "      <td>15/04/21 17:26</td>\n",
       "      <td>Provider_11,Munich, Germany</td>\n",
       "      <td>900.0</td>\n",
       "      <td>NaN</td>\n",
       "      <td>NaN</td>\n",
       "      <td>900.0</td>\n",
       "    </tr>\n",
       "    <tr>\n",
       "      <th>4</th>\n",
       "      <td>134752</td>\n",
       "      <td>Samsung Galexy S10</td>\n",
       "      <td>1</td>\n",
       "      <td>300</td>\n",
       "      <td>21/04/21 05:18</td>\n",
       "      <td>Provider_14,Ankara, Turkey</td>\n",
       "      <td>300.0</td>\n",
       "      <td>NaN</td>\n",
       "      <td>NaN</td>\n",
       "      <td>300.0</td>\n",
       "    </tr>\n",
       "    <tr>\n",
       "      <th>...</th>\n",
       "      <td>...</td>\n",
       "      <td>...</td>\n",
       "      <td>...</td>\n",
       "      <td>...</td>\n",
       "      <td>...</td>\n",
       "      <td>...</td>\n",
       "      <td>...</td>\n",
       "      <td>...</td>\n",
       "      <td>...</td>\n",
       "      <td>...</td>\n",
       "    </tr>\n",
       "    <tr>\n",
       "      <th>40448</th>\n",
       "      <td>152875</td>\n",
       "      <td>Google Pixal - 2</td>\n",
       "      <td>1</td>\n",
       "      <td>900</td>\n",
       "      <td>04/09/21 17:00</td>\n",
       "      <td>Provider_3,Boston, United States</td>\n",
       "      <td>900.0</td>\n",
       "      <td>NaN</td>\n",
       "      <td>NaN</td>\n",
       "      <td>900.0</td>\n",
       "    </tr>\n",
       "    <tr>\n",
       "      <th>40449</th>\n",
       "      <td>152876</td>\n",
       "      <td>iPhone 11</td>\n",
       "      <td>1</td>\n",
       "      <td>500</td>\n",
       "      <td>13/09/21 19:18</td>\n",
       "      <td>Provider_12,Hanoi, Vietnam</td>\n",
       "      <td>500.0</td>\n",
       "      <td>NaN</td>\n",
       "      <td>NaN</td>\n",
       "      <td>500.0</td>\n",
       "    </tr>\n",
       "    <tr>\n",
       "      <th>40450</th>\n",
       "      <td>152877</td>\n",
       "      <td>iPhone 12</td>\n",
       "      <td>2</td>\n",
       "      <td>700</td>\n",
       "      <td>03/09/21 12:38</td>\n",
       "      <td>Provider_4,Jakarta, Indonesia</td>\n",
       "      <td>NaN</td>\n",
       "      <td>1288.0</td>\n",
       "      <td>NaN</td>\n",
       "      <td>1288.0</td>\n",
       "    </tr>\n",
       "    <tr>\n",
       "      <th>40451</th>\n",
       "      <td>152878</td>\n",
       "      <td>Xiaomi 12 Pro</td>\n",
       "      <td>1</td>\n",
       "      <td>900</td>\n",
       "      <td>15/09/21 11:45</td>\n",
       "      <td>Provider_8,Mexico City, Mexico</td>\n",
       "      <td>900.0</td>\n",
       "      <td>NaN</td>\n",
       "      <td>NaN</td>\n",
       "      <td>900.0</td>\n",
       "    </tr>\n",
       "    <tr>\n",
       "      <th>40452</th>\n",
       "      <td>152879</td>\n",
       "      <td>Sony Xperia 20</td>\n",
       "      <td>2</td>\n",
       "      <td>800</td>\n",
       "      <td>10/09/21 13:49</td>\n",
       "      <td>Provider_4,Jakarta, Indonesia</td>\n",
       "      <td>NaN</td>\n",
       "      <td>1472.0</td>\n",
       "      <td>NaN</td>\n",
       "      <td>1472.0</td>\n",
       "    </tr>\n",
       "  </tbody>\n",
       "</table>\n",
       "<p>40453 rows × 10 columns</p>\n",
       "</div>"
      ],
      "text/plain": [
       "       Order ID                        Phone  Quatity Ordered  Price Each  \\\n",
       "0        134748  Xiaomi Redmi Note 10 Pro 5G                1         200   \n",
       "1        134749                    iPhone 13                4        1000   \n",
       "2        134750  Xiaomi Redmi Note 11 Pro 5G                2         350   \n",
       "3        134751             Google Pixal - 2                1         900   \n",
       "4        134752           Samsung Galexy S10                1         300   \n",
       "...         ...                          ...              ...         ...   \n",
       "40448    152875             Google Pixal - 2                1         900   \n",
       "40449    152876                    iPhone 11                1         500   \n",
       "40450    152877                    iPhone 12                2         700   \n",
       "40451    152878                Xiaomi 12 Pro                1         900   \n",
       "40452    152879               Sony Xperia 20                2         800   \n",
       "\n",
       "            Order Date             Provider_City_Country  \\\n",
       "0      07/04/21 23:08          Provider_9,Lagos, Nigeria   \n",
       "1      04/04/21 11:53          Provider_9,Lagos, Nigeria   \n",
       "2      18/04/21 21:08    Provider_17,Islamabad, Pakistan   \n",
       "3      15/04/21 17:26        Provider_11,Munich, Germany   \n",
       "4      21/04/21 05:18         Provider_14,Ankara, Turkey   \n",
       "...                ...                               ...   \n",
       "40448  04/09/21 17:00   Provider_3,Boston, United States   \n",
       "40449  13/09/21 19:18         Provider_12,Hanoi, Vietnam   \n",
       "40450  03/09/21 12:38      Provider_4,Jakarta, Indonesia   \n",
       "40451  15/09/21 11:45     Provider_8,Mexico City, Mexico   \n",
       "40452  10/09/21 13:49      Provider_4,Jakarta, Indonesia   \n",
       "\n",
       "       No Discount - Single Purchase  Sales_Less_Discount(8%)  \\\n",
       "0                              200.0                      NaN   \n",
       "1                                NaN                      NaN   \n",
       "2                                NaN                    644.0   \n",
       "3                              900.0                      NaN   \n",
       "4                              300.0                      NaN   \n",
       "...                              ...                      ...   \n",
       "40448                          900.0                      NaN   \n",
       "40449                          500.0                      NaN   \n",
       "40450                            NaN                   1288.0   \n",
       "40451                          900.0                      NaN   \n",
       "40452                            NaN                   1472.0   \n",
       "\n",
       "       Sales_Less_Discount(15%)  All sales  \n",
       "0                           NaN      200.0  \n",
       "1                        3400.0     3400.0  \n",
       "2                           NaN      644.0  \n",
       "3                           NaN      900.0  \n",
       "4                           NaN      300.0  \n",
       "...                         ...        ...  \n",
       "40448                       NaN      900.0  \n",
       "40449                       NaN      500.0  \n",
       "40450                       NaN     1288.0  \n",
       "40451                       NaN      900.0  \n",
       "40452                       NaN     1472.0  \n",
       "\n",
       "[40453 rows x 10 columns]"
      ]
     },
     "execution_count": 56,
     "metadata": {},
     "output_type": "execute_result"
    }
   ],
   "source": [
    "# Have a look at the data\n",
    "annual_df"
   ]
  },
  {
   "cell_type": "markdown",
   "id": "7888b3fa-d70c-4979-96e3-85c84c5a4ba3",
   "metadata": {},
   "source": [
    "I also knew since I had put in the Order Date column that I would want to do some monthly analysis. So below I created a column where the months numeric value was extracted from the Order Date values and put into its own column for easier access."
   ]
  },
  {
   "cell_type": "code",
   "execution_count": 57,
   "id": "d3b62228-6d8a-4e0e-9b7d-35b128f85e3d",
   "metadata": {
    "tags": []
   },
   "outputs": [
    {
     "data": {
      "text/html": [
       "<div>\n",
       "<style scoped>\n",
       "    .dataframe tbody tr th:only-of-type {\n",
       "        vertical-align: middle;\n",
       "    }\n",
       "\n",
       "    .dataframe tbody tr th {\n",
       "        vertical-align: top;\n",
       "    }\n",
       "\n",
       "    .dataframe thead th {\n",
       "        text-align: right;\n",
       "    }\n",
       "</style>\n",
       "<table border=\"1\" class=\"dataframe\">\n",
       "  <thead>\n",
       "    <tr style=\"text-align: right;\">\n",
       "      <th></th>\n",
       "      <th>Order ID</th>\n",
       "      <th>Phone</th>\n",
       "      <th>Quatity Ordered</th>\n",
       "      <th>Price Each</th>\n",
       "      <th>Order Date</th>\n",
       "      <th>Provider_City_Country</th>\n",
       "      <th>No Discount - Single Purchase</th>\n",
       "      <th>Sales_Less_Discount(8%)</th>\n",
       "      <th>Sales_Less_Discount(15%)</th>\n",
       "      <th>All sales</th>\n",
       "      <th>Month</th>\n",
       "    </tr>\n",
       "  </thead>\n",
       "  <tbody>\n",
       "    <tr>\n",
       "      <th>5946</th>\n",
       "      <td>149661</td>\n",
       "      <td>Samsung Galexy S10</td>\n",
       "      <td>1</td>\n",
       "      <td>300</td>\n",
       "      <td>15/08/21 21:02</td>\n",
       "      <td>Provider_2,Delhi, India</td>\n",
       "      <td>300.0</td>\n",
       "      <td>NaN</td>\n",
       "      <td>NaN</td>\n",
       "      <td>300.0</td>\n",
       "      <td>8</td>\n",
       "    </tr>\n",
       "    <tr>\n",
       "      <th>35078</th>\n",
       "      <td>153594</td>\n",
       "      <td>Nokia c300</td>\n",
       "      <td>2</td>\n",
       "      <td>600</td>\n",
       "      <td>26/10/21 13:43</td>\n",
       "      <td>Provider_15,Isfahan, Iran</td>\n",
       "      <td>NaN</td>\n",
       "      <td>1104.0</td>\n",
       "      <td>NaN</td>\n",
       "      <td>1104.0</td>\n",
       "      <td>10</td>\n",
       "    </tr>\n",
       "    <tr>\n",
       "      <th>19730</th>\n",
       "      <td>145322</td>\n",
       "      <td>iPhone 13</td>\n",
       "      <td>3</td>\n",
       "      <td>1000</td>\n",
       "      <td>20/07/21 14:24</td>\n",
       "      <td>Provider_17,Islamabad, Pakistan</td>\n",
       "      <td>NaN</td>\n",
       "      <td>2760.0</td>\n",
       "      <td>NaN</td>\n",
       "      <td>2760.0</td>\n",
       "      <td>7</td>\n",
       "    </tr>\n",
       "    <tr>\n",
       "      <th>2337</th>\n",
       "      <td>137085</td>\n",
       "      <td>Xiaomi Redmi Note 11 Pro 5G</td>\n",
       "      <td>2</td>\n",
       "      <td>350</td>\n",
       "      <td>11/04/21 18:17</td>\n",
       "      <td>Provider_3,Boston, United States</td>\n",
       "      <td>NaN</td>\n",
       "      <td>644.0</td>\n",
       "      <td>NaN</td>\n",
       "      <td>644.0</td>\n",
       "      <td>4</td>\n",
       "    </tr>\n",
       "    <tr>\n",
       "      <th>38511</th>\n",
       "      <td>150938</td>\n",
       "      <td>Xiaomi 12 Pro</td>\n",
       "      <td>6</td>\n",
       "      <td>900</td>\n",
       "      <td>27/09/21 14:06</td>\n",
       "      <td>Provider_2,Delhi, India</td>\n",
       "      <td>NaN</td>\n",
       "      <td>NaN</td>\n",
       "      <td>4590.0</td>\n",
       "      <td>4590.0</td>\n",
       "      <td>9</td>\n",
       "    </tr>\n",
       "  </tbody>\n",
       "</table>\n",
       "</div>"
      ],
      "text/plain": [
       "       Order ID                        Phone  Quatity Ordered  Price Each  \\\n",
       "5946     149661           Samsung Galexy S10                1         300   \n",
       "35078    153594                   Nokia c300                2         600   \n",
       "19730    145322                    iPhone 13                3        1000   \n",
       "2337     137085  Xiaomi Redmi Note 11 Pro 5G                2         350   \n",
       "38511    150938                Xiaomi 12 Pro                6         900   \n",
       "\n",
       "            Order Date             Provider_City_Country  \\\n",
       "5946   15/08/21 21:02            Provider_2,Delhi, India   \n",
       "35078  26/10/21 13:43          Provider_15,Isfahan, Iran   \n",
       "19730  20/07/21 14:24    Provider_17,Islamabad, Pakistan   \n",
       "2337   11/04/21 18:17   Provider_3,Boston, United States   \n",
       "38511  27/09/21 14:06            Provider_2,Delhi, India   \n",
       "\n",
       "       No Discount - Single Purchase  Sales_Less_Discount(8%)  \\\n",
       "5946                           300.0                      NaN   \n",
       "35078                            NaN                   1104.0   \n",
       "19730                            NaN                   2760.0   \n",
       "2337                             NaN                    644.0   \n",
       "38511                            NaN                      NaN   \n",
       "\n",
       "       Sales_Less_Discount(15%)  All sales  Month  \n",
       "5946                        NaN      300.0      8  \n",
       "35078                       NaN     1104.0     10  \n",
       "19730                       NaN     2760.0      7  \n",
       "2337                        NaN      644.0      4  \n",
       "38511                    4590.0     4590.0      9  "
      ]
     },
     "execution_count": 57,
     "metadata": {},
     "output_type": "execute_result"
    }
   ],
   "source": [
    "# Extract month numeric value\n",
    "annual_df['Month'] = annual_df['Order Date'].str[3:5]\n",
    "\n",
    "# Change to int\n",
    "annual_df['Month'] = annual_df['Month'].astype('int32')\n",
    "\n",
    "#Take a peek to ensure the numbers corrolate\n",
    "annual_df.sample(5)"
   ]
  },
  {
   "cell_type": "markdown",
   "id": "3e190a04-8a49-4f86-ad9f-ee8554d834f5",
   "metadata": {},
   "source": [
    "Finally and for \"fun\" I created relevent regions for each of the Provider_City_Country values so I could do some analysis on the geographic trends at a higher level."
   ]
  },
  {
   "cell_type": "code",
   "execution_count": 58,
   "id": "42ec5d1f-afbc-438e-89e6-ce773d87f55b",
   "metadata": {},
   "outputs": [],
   "source": [
    "annual_df.loc[(annual_df['Provider_City_Country'] == 'Provider_8,Mexico City, Mexico') |\n",
    "              (annual_df['Provider_City_Country'] == 'Provider_3,Boston, United States'), 'Region'] = 'North America'\n",
    "\n",
    "annual_df.loc[(annual_df['Provider_City_Country'] == 'Provider_1,Beijing, China') | \n",
    "              (annual_df['Provider_City_Country'] == 'Provider_2,Delhi, India') | \n",
    "              (annual_df['Provider_City_Country'] == 'Provider_13,Dhaka, Bangladesh') |\n",
    "              (annual_df['Provider_City_Country'] == 'Provider_7,Yokohama, Japan') |\n",
    "              (annual_df['Provider_City_Country'] == 'Provider_18,Bangkok, Thailand'),'Region'] = 'Asia'\n",
    "\n",
    "\n",
    "\n",
    "annual_df.loc[(annual_df['Provider_City_Country'] == 'Provider_10,Manila, Philippines') | \n",
    "              (annual_df['Provider_City_Country'] == 'Provider_12,Hanoi, Vietnam') |\n",
    "              (annual_df['Provider_City_Country'] == 'Provider_4,Jakarta, Indonesia'),'Region'] = 'South East Asia'\n",
    "\n",
    "annual_df.loc[(annual_df['Provider_City_Country'] == 'Provider_9,Lagos, Nigeria') |\n",
    "              (annual_df['Provider_City_Country'] == 'Provider_20,Durban, South Africa') |\n",
    "              (annual_df['Provider_City_Country'] == 'Provider_16,Giza, Egypt'),'Region'] = 'Africa'\n",
    "\n",
    "annual_df.loc[(annual_df['Provider_City_Country'] == 'Provider_15,Isfahan, Iran') | \n",
    "              (annual_df['Provider_City_Country'] == 'Provider_17,Islamabad, Pakistan'),'Region'] = 'Middle-East'\n",
    "\n",
    "annual_df.loc[(annual_df['Provider_City_Country'] == 'Provider_6,Moscow, Russia') | \n",
    "              (annual_df['Provider_City_Country'] == 'Provider_11,Munich, Germany')| \n",
    "              (annual_df['Provider_City_Country'] == 'Provider_19,Milan, Italy')| \n",
    "              (annual_df['Provider_City_Country'] == 'Provider_14,Ankara, Turkey'),'Region'] = 'Europe'\n",
    "\n",
    "annual_df.loc[annual_df['Provider_City_Country'] == 'Provider_5,Sao Paulo, Brazil','Region'] = 'South America'"
   ]
  },
  {
   "cell_type": "code",
   "execution_count": 59,
   "id": "7cba1d2a-8704-4719-8e9f-ec8765748941",
   "metadata": {},
   "outputs": [
    {
     "data": {
      "text/html": [
       "<div>\n",
       "<style scoped>\n",
       "    .dataframe tbody tr th:only-of-type {\n",
       "        vertical-align: middle;\n",
       "    }\n",
       "\n",
       "    .dataframe tbody tr th {\n",
       "        vertical-align: top;\n",
       "    }\n",
       "\n",
       "    .dataframe thead th {\n",
       "        text-align: right;\n",
       "    }\n",
       "</style>\n",
       "<table border=\"1\" class=\"dataframe\">\n",
       "  <thead>\n",
       "    <tr style=\"text-align: right;\">\n",
       "      <th></th>\n",
       "      <th>Order ID</th>\n",
       "      <th>Phone</th>\n",
       "      <th>Quatity Ordered</th>\n",
       "      <th>Price Each</th>\n",
       "      <th>Order Date</th>\n",
       "      <th>Provider_City_Country</th>\n",
       "      <th>No Discount - Single Purchase</th>\n",
       "      <th>Sales_Less_Discount(8%)</th>\n",
       "      <th>Sales_Less_Discount(15%)</th>\n",
       "      <th>All sales</th>\n",
       "      <th>Month</th>\n",
       "      <th>Region</th>\n",
       "    </tr>\n",
       "  </thead>\n",
       "  <tbody>\n",
       "    <tr>\n",
       "      <th>12462</th>\n",
       "      <td>129703</td>\n",
       "      <td>Samsung Galexy S21</td>\n",
       "      <td>1</td>\n",
       "      <td>800</td>\n",
       "      <td>02/02/21 16:43</td>\n",
       "      <td>Provider_17,Islamabad, Pakistan</td>\n",
       "      <td>800.0</td>\n",
       "      <td>NaN</td>\n",
       "      <td>NaN</td>\n",
       "      <td>800.0</td>\n",
       "      <td>2</td>\n",
       "      <td>Middle-East</td>\n",
       "    </tr>\n",
       "    <tr>\n",
       "      <th>38709</th>\n",
       "      <td>151136</td>\n",
       "      <td>Nokia c300</td>\n",
       "      <td>1</td>\n",
       "      <td>600</td>\n",
       "      <td>30/09/21 08:04</td>\n",
       "      <td>Provider_13,Dhaka, Bangladesh</td>\n",
       "      <td>600.0</td>\n",
       "      <td>NaN</td>\n",
       "      <td>NaN</td>\n",
       "      <td>600.0</td>\n",
       "      <td>9</td>\n",
       "      <td>Asia</td>\n",
       "    </tr>\n",
       "    <tr>\n",
       "      <th>27795</th>\n",
       "      <td>138375</td>\n",
       "      <td>Huawei - 3</td>\n",
       "      <td>1</td>\n",
       "      <td>200</td>\n",
       "      <td>23/05/21 21:16</td>\n",
       "      <td>Provider_6,Moscow, Russia</td>\n",
       "      <td>200.0</td>\n",
       "      <td>NaN</td>\n",
       "      <td>NaN</td>\n",
       "      <td>200.0</td>\n",
       "      <td>5</td>\n",
       "      <td>Europe</td>\n",
       "    </tr>\n",
       "    <tr>\n",
       "      <th>2234</th>\n",
       "      <td>136982</td>\n",
       "      <td>Nokia c100</td>\n",
       "      <td>5</td>\n",
       "      <td>200</td>\n",
       "      <td>20/04/21 19:51</td>\n",
       "      <td>Provider_4,Jakarta, Indonesia</td>\n",
       "      <td>NaN</td>\n",
       "      <td>NaN</td>\n",
       "      <td>850.0</td>\n",
       "      <td>850.0</td>\n",
       "      <td>4</td>\n",
       "      <td>South East Asia</td>\n",
       "    </tr>\n",
       "    <tr>\n",
       "      <th>40330</th>\n",
       "      <td>152757</td>\n",
       "      <td>Nokia c100</td>\n",
       "      <td>1</td>\n",
       "      <td>200</td>\n",
       "      <td>09/09/21 20:23</td>\n",
       "      <td>Provider_20,Durban, South Africa</td>\n",
       "      <td>200.0</td>\n",
       "      <td>NaN</td>\n",
       "      <td>NaN</td>\n",
       "      <td>200.0</td>\n",
       "      <td>9</td>\n",
       "      <td>Africa</td>\n",
       "    </tr>\n",
       "    <tr>\n",
       "      <th>34847</th>\n",
       "      <td>153363</td>\n",
       "      <td>iPhone 11</td>\n",
       "      <td>2</td>\n",
       "      <td>500</td>\n",
       "      <td>10/10/21 20:40</td>\n",
       "      <td>Provider_4,Jakarta, Indonesia</td>\n",
       "      <td>NaN</td>\n",
       "      <td>920.0</td>\n",
       "      <td>NaN</td>\n",
       "      <td>920.0</td>\n",
       "      <td>10</td>\n",
       "      <td>South East Asia</td>\n",
       "    </tr>\n",
       "    <tr>\n",
       "      <th>4442</th>\n",
       "      <td>148157</td>\n",
       "      <td>Sony Xperia 5</td>\n",
       "      <td>2</td>\n",
       "      <td>450</td>\n",
       "      <td>15/08/21 11:22</td>\n",
       "      <td>Provider_19,Milan, Italy</td>\n",
       "      <td>NaN</td>\n",
       "      <td>828.0</td>\n",
       "      <td>NaN</td>\n",
       "      <td>828.0</td>\n",
       "      <td>8</td>\n",
       "      <td>Europe</td>\n",
       "    </tr>\n",
       "    <tr>\n",
       "      <th>36451</th>\n",
       "      <td>154967</td>\n",
       "      <td>Samsung Galexy S22</td>\n",
       "      <td>1</td>\n",
       "      <td>1100</td>\n",
       "      <td>24/10/21 19:17</td>\n",
       "      <td>Provider_6,Moscow, Russia</td>\n",
       "      <td>1100.0</td>\n",
       "      <td>NaN</td>\n",
       "      <td>NaN</td>\n",
       "      <td>1100.0</td>\n",
       "      <td>10</td>\n",
       "      <td>Europe</td>\n",
       "    </tr>\n",
       "    <tr>\n",
       "      <th>9853</th>\n",
       "      <td>163572</td>\n",
       "      <td>iPhone 12</td>\n",
       "      <td>2</td>\n",
       "      <td>700</td>\n",
       "      <td>12/12/21 16:13</td>\n",
       "      <td>Provider_19,Milan, Italy</td>\n",
       "      <td>NaN</td>\n",
       "      <td>1288.0</td>\n",
       "      <td>NaN</td>\n",
       "      <td>1288.0</td>\n",
       "      <td>12</td>\n",
       "      <td>Europe</td>\n",
       "    </tr>\n",
       "    <tr>\n",
       "      <th>29146</th>\n",
       "      <td>139726</td>\n",
       "      <td>iPhone 13</td>\n",
       "      <td>5</td>\n",
       "      <td>1000</td>\n",
       "      <td>31/05/21 02:44</td>\n",
       "      <td>Provider_3,Boston, United States</td>\n",
       "      <td>NaN</td>\n",
       "      <td>NaN</td>\n",
       "      <td>4250.0</td>\n",
       "      <td>4250.0</td>\n",
       "      <td>5</td>\n",
       "      <td>North America</td>\n",
       "    </tr>\n",
       "  </tbody>\n",
       "</table>\n",
       "</div>"
      ],
      "text/plain": [
       "       Order ID               Phone  Quatity Ordered  Price Each  \\\n",
       "12462    129703  Samsung Galexy S21                1         800   \n",
       "38709    151136          Nokia c300                1         600   \n",
       "27795    138375          Huawei - 3                1         200   \n",
       "2234     136982          Nokia c100                5         200   \n",
       "40330    152757          Nokia c100                1         200   \n",
       "34847    153363           iPhone 11                2         500   \n",
       "4442     148157       Sony Xperia 5                2         450   \n",
       "36451    154967  Samsung Galexy S22                1        1100   \n",
       "9853     163572           iPhone 12                2         700   \n",
       "29146    139726           iPhone 13                5        1000   \n",
       "\n",
       "            Order Date             Provider_City_Country  \\\n",
       "12462  02/02/21 16:43    Provider_17,Islamabad, Pakistan   \n",
       "38709  30/09/21 08:04      Provider_13,Dhaka, Bangladesh   \n",
       "27795  23/05/21 21:16          Provider_6,Moscow, Russia   \n",
       "2234   20/04/21 19:51      Provider_4,Jakarta, Indonesia   \n",
       "40330  09/09/21 20:23   Provider_20,Durban, South Africa   \n",
       "34847  10/10/21 20:40      Provider_4,Jakarta, Indonesia   \n",
       "4442   15/08/21 11:22           Provider_19,Milan, Italy   \n",
       "36451  24/10/21 19:17          Provider_6,Moscow, Russia   \n",
       "9853   12/12/21 16:13           Provider_19,Milan, Italy   \n",
       "29146  31/05/21 02:44   Provider_3,Boston, United States   \n",
       "\n",
       "       No Discount - Single Purchase  Sales_Less_Discount(8%)  \\\n",
       "12462                          800.0                      NaN   \n",
       "38709                          600.0                      NaN   \n",
       "27795                          200.0                      NaN   \n",
       "2234                             NaN                      NaN   \n",
       "40330                          200.0                      NaN   \n",
       "34847                            NaN                    920.0   \n",
       "4442                             NaN                    828.0   \n",
       "36451                         1100.0                      NaN   \n",
       "9853                             NaN                   1288.0   \n",
       "29146                            NaN                      NaN   \n",
       "\n",
       "       Sales_Less_Discount(15%)  All sales  Month           Region  \n",
       "12462                       NaN      800.0      2      Middle-East  \n",
       "38709                       NaN      600.0      9             Asia  \n",
       "27795                       NaN      200.0      5           Europe  \n",
       "2234                      850.0      850.0      4  South East Asia  \n",
       "40330                       NaN      200.0      9           Africa  \n",
       "34847                       NaN      920.0     10  South East Asia  \n",
       "4442                        NaN      828.0      8           Europe  \n",
       "36451                       NaN     1100.0     10           Europe  \n",
       "9853                        NaN     1288.0     12           Europe  \n",
       "29146                    4250.0     4250.0      5    North America  "
      ]
     },
     "execution_count": 59,
     "metadata": {},
     "output_type": "execute_result"
    }
   ],
   "source": [
    "#Take a peek to ensure the regions corrolate with the code\n",
    "annual_df.sample(10)"
   ]
  },
  {
   "cell_type": "code",
   "execution_count": 60,
   "id": "7ca9fc81-93f1-4823-9070-dc936011aab3",
   "metadata": {},
   "outputs": [
    {
     "name": "stdout",
     "output_type": "stream",
     "text": [
      "<class 'pandas.core.frame.DataFrame'>\n",
      "RangeIndex: 40453 entries, 0 to 40452\n",
      "Data columns (total 12 columns):\n",
      " #   Column                         Non-Null Count  Dtype  \n",
      "---  ------                         --------------  -----  \n",
      " 0   Order ID                       40453 non-null  int64  \n",
      " 1   Phone                          40453 non-null  object \n",
      " 2   Quatity Ordered                40453 non-null  int32  \n",
      " 3   Price Each                     40453 non-null  int32  \n",
      " 4   Order Date                     40453 non-null  object \n",
      " 5   Provider_City_Country          40453 non-null  object \n",
      " 6   No Discount - Single Purchase  24039 non-null  float64\n",
      " 7   Sales_Less_Discount(8%)        13802 non-null  float64\n",
      " 8   Sales_Less_Discount(15%)       2612 non-null   float64\n",
      " 9   All sales                      40453 non-null  float64\n",
      " 10  Month                          40453 non-null  int32  \n",
      " 11  Region                         40453 non-null  object \n",
      "dtypes: float64(4), int32(3), int64(1), object(4)\n",
      "memory usage: 3.2+ MB\n"
     ]
    }
   ],
   "source": [
    "#Take a look at the information on the dataframe and its variables before analysis\n",
    "annual_df.info()"
   ]
  },
  {
   "cell_type": "markdown",
   "id": "0243938f-4227-4596-9b0e-36f1504fede2",
   "metadata": {},
   "source": [
    "I have now simulated a comprehensive dataframe with 12 columns and 38931 rows of data. Uncomment and run the code in the next cell to output the entire dataframe to a csv called called \"Annual_data.csv\".  \n",
    "**N.B** If you already have a file called \"Annual_data.csv\" in the folder this will overwrite it."
   ]
  },
  {
   "cell_type": "code",
   "execution_count": 63,
   "id": "c62d3528-789a-40b6-a099-14da57442e49",
   "metadata": {},
   "outputs": [],
   "source": [
    "# Output full dataframe into a file called \"Annual_data.csv\"\n",
    "#annual_df.to_csv(\"Annual_data.csv\", index=False)"
   ]
  },
  {
   "cell_type": "code",
   "execution_count": null,
   "id": "d67a552a-07aa-48c8-9b97-8ed47b6123b7",
   "metadata": {},
   "outputs": [],
   "source": []
  },
  {
   "cell_type": "markdown",
   "id": "54ae4faa-fd50-4733-b77d-50b8f21ba061",
   "metadata": {},
   "source": [
    "# 5. Analysis"
   ]
  },
  {
   "cell_type": "markdown",
   "id": "9b17b6f9-0d87-482e-b880-67012d724656",
   "metadata": {
    "tags": []
   },
   "source": [
    "### 5.1 Monthly Analysis\n"
   ]
  },
  {
   "cell_type": "markdown",
   "id": "d31b7470-bed3-4ff4-bd3f-ddb80ed5d2be",
   "metadata": {},
   "source": [
    "In this first part of the analysis I will create a graph to show the value of sales by month. This will show me if the cumlitive sales go up in Nov, Dec and January like I had weighed for in those months. "
   ]
  },
  {
   "cell_type": "code",
   "execution_count": 64,
   "id": "1005005c-5ef9-4416-8740-b0a40feb8a7c",
   "metadata": {},
   "outputs": [
    {
     "data": {
      "text/html": [
       "<div>\n",
       "<style scoped>\n",
       "    .dataframe tbody tr th:only-of-type {\n",
       "        vertical-align: middle;\n",
       "    }\n",
       "\n",
       "    .dataframe tbody tr th {\n",
       "        vertical-align: top;\n",
       "    }\n",
       "\n",
       "    .dataframe thead th {\n",
       "        text-align: right;\n",
       "    }\n",
       "</style>\n",
       "<table border=\"1\" class=\"dataframe\">\n",
       "  <thead>\n",
       "    <tr style=\"text-align: right;\">\n",
       "      <th></th>\n",
       "      <th>Month</th>\n",
       "      <th>Order ID</th>\n",
       "      <th>Quatity Ordered</th>\n",
       "      <th>Price Each</th>\n",
       "      <th>No Discount - Single Purchase</th>\n",
       "      <th>Sales_Less_Discount(8%)</th>\n",
       "      <th>Sales_Less_Discount(15%)</th>\n",
       "      <th>All sales</th>\n",
       "    </tr>\n",
       "  </thead>\n",
       "  <tbody>\n",
       "    <tr>\n",
       "      <th>0</th>\n",
       "      <td>1</td>\n",
       "      <td>503261579</td>\n",
       "      <td>6612</td>\n",
       "      <td>2480550</td>\n",
       "      <td>1493350.0</td>\n",
       "      <td>1722424.0</td>\n",
       "      <td>642940.0</td>\n",
       "      <td>3858714.0</td>\n",
       "    </tr>\n",
       "    <tr>\n",
       "      <th>1</th>\n",
       "      <td>2</td>\n",
       "      <td>400974151</td>\n",
       "      <td>5127</td>\n",
       "      <td>1911350</td>\n",
       "      <td>1143600.0</td>\n",
       "      <td>1368546.0</td>\n",
       "      <td>452030.0</td>\n",
       "      <td>2964176.0</td>\n",
       "    </tr>\n",
       "    <tr>\n",
       "      <th>2</th>\n",
       "      <td>3</td>\n",
       "      <td>417900727</td>\n",
       "      <td>5228</td>\n",
       "      <td>1981600</td>\n",
       "      <td>1192100.0</td>\n",
       "      <td>1387958.0</td>\n",
       "      <td>523770.0</td>\n",
       "      <td>3103828.0</td>\n",
       "    </tr>\n",
       "    <tr>\n",
       "      <th>3</th>\n",
       "      <td>4</td>\n",
       "      <td>423881130</td>\n",
       "      <td>5245</td>\n",
       "      <td>1916900</td>\n",
       "      <td>1117750.0</td>\n",
       "      <td>1411188.0</td>\n",
       "      <td>515100.0</td>\n",
       "      <td>3044038.0</td>\n",
       "    </tr>\n",
       "    <tr>\n",
       "      <th>4</th>\n",
       "      <td>5</td>\n",
       "      <td>442302715</td>\n",
       "      <td>5358</td>\n",
       "      <td>1990450</td>\n",
       "      <td>1196100.0</td>\n",
       "      <td>1377562.0</td>\n",
       "      <td>568777.5</td>\n",
       "      <td>3142439.5</td>\n",
       "    </tr>\n",
       "    <tr>\n",
       "      <th>5</th>\n",
       "      <td>6</td>\n",
       "      <td>413609289</td>\n",
       "      <td>4890</td>\n",
       "      <td>1824900</td>\n",
       "      <td>1066100.0</td>\n",
       "      <td>1338416.0</td>\n",
       "      <td>464057.5</td>\n",
       "      <td>2868573.5</td>\n",
       "    </tr>\n",
       "    <tr>\n",
       "      <th>6</th>\n",
       "      <td>7</td>\n",
       "      <td>420705265</td>\n",
       "      <td>4702</td>\n",
       "      <td>1806100</td>\n",
       "      <td>1099250.0</td>\n",
       "      <td>1253270.0</td>\n",
       "      <td>412632.5</td>\n",
       "      <td>2765152.5</td>\n",
       "    </tr>\n",
       "    <tr>\n",
       "      <th>7</th>\n",
       "      <td>8</td>\n",
       "      <td>444820765</td>\n",
       "      <td>5106</td>\n",
       "      <td>1885700</td>\n",
       "      <td>1107700.0</td>\n",
       "      <td>1381518.0</td>\n",
       "      <td>488325.0</td>\n",
       "      <td>2977543.0</td>\n",
       "    </tr>\n",
       "    <tr>\n",
       "      <th>8</th>\n",
       "      <td>9</td>\n",
       "      <td>461762949</td>\n",
       "      <td>5123</td>\n",
       "      <td>1919350</td>\n",
       "      <td>1122800.0</td>\n",
       "      <td>1424988.0</td>\n",
       "      <td>471452.5</td>\n",
       "      <td>3019240.5</td>\n",
       "    </tr>\n",
       "    <tr>\n",
       "      <th>9</th>\n",
       "      <td>10</td>\n",
       "      <td>468879092</td>\n",
       "      <td>5179</td>\n",
       "      <td>1904400</td>\n",
       "      <td>1121100.0</td>\n",
       "      <td>1383404.0</td>\n",
       "      <td>535032.5</td>\n",
       "      <td>3039536.5</td>\n",
       "    </tr>\n",
       "    <tr>\n",
       "      <th>10</th>\n",
       "      <td>11</td>\n",
       "      <td>617412674</td>\n",
       "      <td>6568</td>\n",
       "      <td>2452000</td>\n",
       "      <td>1449700.0</td>\n",
       "      <td>1786134.0</td>\n",
       "      <td>609067.5</td>\n",
       "      <td>3844901.5</td>\n",
       "    </tr>\n",
       "    <tr>\n",
       "      <th>11</th>\n",
       "      <td>12</td>\n",
       "      <td>841275004</td>\n",
       "      <td>8673</td>\n",
       "      <td>3267800</td>\n",
       "      <td>1939350.0</td>\n",
       "      <td>2401614.0</td>\n",
       "      <td>780172.5</td>\n",
       "      <td>5121136.5</td>\n",
       "    </tr>\n",
       "  </tbody>\n",
       "</table>\n",
       "</div>"
      ],
      "text/plain": [
       "    Month   Order ID  Quatity Ordered  Price Each  \\\n",
       "0       1  503261579             6612     2480550   \n",
       "1       2  400974151             5127     1911350   \n",
       "2       3  417900727             5228     1981600   \n",
       "3       4  423881130             5245     1916900   \n",
       "4       5  442302715             5358     1990450   \n",
       "5       6  413609289             4890     1824900   \n",
       "6       7  420705265             4702     1806100   \n",
       "7       8  444820765             5106     1885700   \n",
       "8       9  461762949             5123     1919350   \n",
       "9      10  468879092             5179     1904400   \n",
       "10     11  617412674             6568     2452000   \n",
       "11     12  841275004             8673     3267800   \n",
       "\n",
       "    No Discount - Single Purchase  Sales_Less_Discount(8%)  \\\n",
       "0                       1493350.0                1722424.0   \n",
       "1                       1143600.0                1368546.0   \n",
       "2                       1192100.0                1387958.0   \n",
       "3                       1117750.0                1411188.0   \n",
       "4                       1196100.0                1377562.0   \n",
       "5                       1066100.0                1338416.0   \n",
       "6                       1099250.0                1253270.0   \n",
       "7                       1107700.0                1381518.0   \n",
       "8                       1122800.0                1424988.0   \n",
       "9                       1121100.0                1383404.0   \n",
       "10                      1449700.0                1786134.0   \n",
       "11                      1939350.0                2401614.0   \n",
       "\n",
       "    Sales_Less_Discount(15%)  All sales  \n",
       "0                   642940.0  3858714.0  \n",
       "1                   452030.0  2964176.0  \n",
       "2                   523770.0  3103828.0  \n",
       "3                   515100.0  3044038.0  \n",
       "4                   568777.5  3142439.5  \n",
       "5                   464057.5  2868573.5  \n",
       "6                   412632.5  2765152.5  \n",
       "7                   488325.0  2977543.0  \n",
       "8                   471452.5  3019240.5  \n",
       "9                   535032.5  3039536.5  \n",
       "10                  609067.5  3844901.5  \n",
       "11                  780172.5  5121136.5  "
      ]
     },
     "execution_count": 64,
     "metadata": {},
     "output_type": "execute_result"
    }
   ],
   "source": [
    "# Use groupby function to group the data according to the value in the month column\n",
    "months_res = annual_df.groupby(('Month'), as_index=False).sum()\n",
    "\n",
    "# Have a look at the data to make sure it looks right\n",
    "months_res"
   ]
  },
  {
   "cell_type": "code",
   "execution_count": 65,
   "id": "d35483ce-6d0a-46d4-8259-214f813d753a",
   "metadata": {},
   "outputs": [
    {
     "data": {
      "text/plain": [
       "Text(0, 0.5, 'Sales in (€)')"
      ]
     },
     "execution_count": 65,
     "metadata": {},
     "output_type": "execute_result"
    },
    {
     "data": {
      "image/png": "[encoded data removed]",
      "text/plain": [
       "<Figure size 1008x648 with 1 Axes>"
      ]
     },
     "metadata": {
      "needs_background": "light"
     },
     "output_type": "display_data"
    }
   ],
   "source": [
    "# Generate the plot\n",
    "\n",
    "# pass in the range of months\n",
    "months = range(1,13)\n",
    "\n",
    "# Size of figure\n",
    "plt.figure(figsize = (14, 9))\n",
    "\n",
    "# Displays real numbers and not scientific notation for high sales figures on Y-Axis\n",
    "plt.ticklabel_format(style='plain')\n",
    "\n",
    "# Pass in the data-points to be graphed. Months on the X-axis, cumlitive monthly sale on the Y-Axis\n",
    "plt.bar(months, months_res['All sales'])\n",
    "\n",
    "# Label for X-Axis\n",
    "plt.xlabel(\"Months\", fontsize = 20)\n",
    "\n",
    "# Bins for X-Axis\n",
    "plt.xticks(months)\n",
    "\n",
    "# Title for Plot\n",
    "plt.title(\"Monthly Sales\", fontsize = 30)\n",
    "\n",
    "# Label for Y-Axis\n",
    "plt.ylabel(\"Sales in (€)\", fontsize = 20)"
   ]
  },
  {
   "cell_type": "markdown",
   "id": "003093a9-37a4-482e-9b7a-78cac0e2bdea",
   "metadata": {},
   "source": [
    "From this graph you can now see how the data was distributed monthy with specific months like Nov and Jan with a slighly higher probability that the order would be placed there and a much higher probability that the order was placed in December. This was to  "
   ]
  },
  {
   "cell_type": "code",
   "execution_count": 48,
   "id": "72266830-59d3-4f56-a59a-31e2ea9ef34f",
   "metadata": {},
   "outputs": [
    {
     "data": {
      "text/plain": [
       "0     3676367.5\n",
       "1     2775887.0\n",
       "2     3003425.5\n",
       "3     2919303.5\n",
       "4     2895315.5\n",
       "5     2950167.5\n",
       "6     2913825.5\n",
       "7     2870756.0\n",
       "8     2754310.5\n",
       "9     2859441.0\n",
       "10    3337434.0\n",
       "11    4958753.0\n",
       "Name: All sales, dtype: float64"
      ]
     },
     "execution_count": 48,
     "metadata": {},
     "output_type": "execute_result"
    }
   ],
   "source": [
    "months_res['All sales']"
   ]
  },
  {
   "cell_type": "markdown",
   "id": "3836f81a-0947-40b8-b775-5b1adb7321ae",
   "metadata": {},
   "source": [
    "### Shop with highest number of sales by city"
   ]
  },
  {
   "cell_type": "code",
   "execution_count": null,
   "id": "a8293892-c592-4d91-aca7-a0696675d439",
   "metadata": {},
   "outputs": [],
   "source": [
    "data_by_bus = annual_df.groupby('Purchase Country_City', as_index=False).sum()\n",
    "data_by_bus.set_index('Purchase Country_City', inplace=False)\n",
    "data_by_bus.head()"
   ]
  },
  {
   "cell_type": "code",
   "execution_count": null,
   "id": "668297b4-b53e-404e-ab3b-19db4bac394d",
   "metadata": {},
   "outputs": [],
   "source": [
    "cities = [city for city, annual_df in data_by_bus.groupby('Purchase Country_City')]\n",
    "plt.figure(figsize = (20, 14))\n",
    "plt.ticklabel_format(style='plain')\n",
    "plt.bar(cities, data_by_bus['All sales'], label ='All Sales By City')\n",
    "\n",
    "plt.xticks(cities, rotation = 90)\n",
    "plt.ylabel(\"Sales in (€)\")\n",
    "#plt.xlabel(\"City Name\")\n",
    "plt.show()"
   ]
  },
  {
   "cell_type": "code",
   "execution_count": null,
   "id": "aa799773-d6f6-4145-bf3b-854c128d272e",
   "metadata": {},
   "outputs": [],
   "source": []
  },
  {
   "cell_type": "code",
   "execution_count": null,
   "id": "69f20a66-55d3-4b2a-a014-a9bf1695a2eb",
   "metadata": {},
   "outputs": [],
   "source": []
  },
  {
   "cell_type": "code",
   "execution_count": null,
   "id": "94e80c49-886e-4a8b-b75c-33c263fd14ee",
   "metadata": {},
   "outputs": [],
   "source": []
  },
  {
   "cell_type": "markdown",
   "id": "e85a0aff-af16-4d13-8b34-0059e1da4958",
   "metadata": {},
   "source": [
    "# Frequency of Orders per hour"
   ]
  },
  {
   "cell_type": "code",
   "execution_count": null,
   "id": "73c1ac48-d4ce-45cd-b9bb-a10635a8b013",
   "metadata": {},
   "outputs": [],
   "source": [
    "annual_df['Order Date'] = pd.to_datetime(annual_df['Order Date'])"
   ]
  },
  {
   "cell_type": "code",
   "execution_count": null,
   "id": "2af9a171-a2ec-435c-bf52-012f9d998f86",
   "metadata": {},
   "outputs": [],
   "source": [
    "annual_df['Hour'] = annual_df['Order Date'].dt.hour\n",
    "annual_df['Minute'] = annual_df['Order Date'].dt.minute\n",
    "annual_df['Count'] = 1\n"
   ]
  },
  {
   "cell_type": "code",
   "execution_count": null,
   "id": "350eabbb-792f-4a7f-9ddf-ea9da7c3bc5d",
   "metadata": {},
   "outputs": [],
   "source": [
    "#Check the data - make sure the figures in the extra columns corrospond accordingly\n",
    "annual_df.sample(8)"
   ]
  },
  {
   "cell_type": "code",
   "execution_count": null,
   "id": "1404f130-ba32-4563-868c-beb712d4db07",
   "metadata": {},
   "outputs": [],
   "source": [
    "values = annual_df.groupby(['Hour']).count()\n",
    "counts = values['Count']\n",
    "counts "
   ]
  },
  {
   "cell_type": "code",
   "execution_count": null,
   "id": "c3d1f35c-5d0b-44c7-b29e-ef49baaacfc7",
   "metadata": {},
   "outputs": [],
   "source": []
  },
  {
   "cell_type": "code",
   "execution_count": null,
   "id": "4a49bc6a-1eb9-4d1c-82cb-d754ebfe4e5f",
   "metadata": {},
   "outputs": [],
   "source": [
    "x = [hour for hour, df in annual_df.groupby('Hour')]"
   ]
  },
  {
   "cell_type": "code",
   "execution_count": null,
   "id": "a28bfc90-e563-4d51-9f59-6111e69c1309",
   "metadata": {},
   "outputs": [],
   "source": [
    "y = counts"
   ]
  },
  {
   "cell_type": "code",
   "execution_count": null,
   "id": "9bc6efec-ee9e-4fbf-ae0c-3110b8b4a3c9",
   "metadata": {},
   "outputs": [],
   "source": [
    "plt.figure(figsize=(18,10))\n",
    "sns.set_style(\"darkgrid\")\n",
    "p = sns.lineplot(x=x, y=y)\n",
    "p.set_xlabel(\"Hours\", fontsize = 20)\n",
    "p.set_ylabel(\"Orders Per Hour\", fontsize = 20)\n",
    "p.figure.suptitle('Trend of Orders by Hour Over a Year', fontsize = 20)\n",
    "plt.xticks(x)\n",
    "plt.show()\n"
   ]
  },
  {
   "cell_type": "code",
   "execution_count": null,
   "id": "29726d29-8425-4b2f-8eb2-8fa44a28afba",
   "metadata": {},
   "outputs": [],
   "source": []
  },
  {
   "cell_type": "code",
   "execution_count": null,
   "id": "7d93474a-0b52-4765-937b-f1a832846f2d",
   "metadata": {},
   "outputs": [],
   "source": [
    "annual_df.head()"
   ]
  },
  {
   "cell_type": "code",
   "execution_count": null,
   "id": "4389c8aa-fea6-4127-8c34-35f66845ab3e",
   "metadata": {},
   "outputs": [],
   "source": []
  },
  {
   "cell_type": "code",
   "execution_count": null,
   "id": "b3583031-7b0f-42e8-912b-0448ebe72b55",
   "metadata": {},
   "outputs": [],
   "source": [
    "phone_type = annual_df.groupby('Phone')"
   ]
  },
  {
   "cell_type": "code",
   "execution_count": null,
   "id": "c5e6fa2b-1678-4e8a-9dc1-be57450b54b3",
   "metadata": {},
   "outputs": [],
   "source": [
    "phone_type.sum()\n",
    "qty_ord = phone_type.sum()['Quatity Ordered']"
   ]
  },
  {
   "cell_type": "code",
   "execution_count": null,
   "id": "4466c8f3-7e85-4dad-9e81-4acc14b218a2",
   "metadata": {},
   "outputs": [],
   "source": [
    "qty_ord"
   ]
  },
  {
   "cell_type": "code",
   "execution_count": null,
   "id": "969dab7c-2097-45bc-88dc-c9d1681d08c7",
   "metadata": {},
   "outputs": [],
   "source": [
    "products = [product for product, df in phone_type]"
   ]
  },
  {
   "cell_type": "code",
   "execution_count": null,
   "id": "5739319e-013c-4322-b91e-d575cd0f1565",
   "metadata": {},
   "outputs": [],
   "source": [
    "plt.figure(figsize=(16,10))\n",
    "plt.bar(products,qty_ord)\n",
    "\n",
    "plt.ylabel('Quantity Ordered')\n",
    "\n",
    "plt.xticks(products, rotation = 80)\n",
    "plt.show()\n"
   ]
  },
  {
   "cell_type": "code",
   "execution_count": null,
   "id": "43380b14-88f8-4373-8c4b-777726e22383",
   "metadata": {},
   "outputs": [],
   "source": []
  },
  {
   "cell_type": "code",
   "execution_count": null,
   "id": "f5ac9afa-4875-4988-b945-c5a05e38da8e",
   "metadata": {},
   "outputs": [],
   "source": []
  },
  {
   "cell_type": "code",
   "execution_count": null,
   "id": "bf3f1b7a-d439-448c-ac21-f9c27ec87271",
   "metadata": {},
   "outputs": [],
   "source": [
    "prices = annual_df.groupby('Phone').mean()['Price Each']\n",
    "prices"
   ]
  },
  {
   "cell_type": "code",
   "execution_count": null,
   "id": "96f81c4f-8d19-4c18-8390-e064de0dafbe",
   "metadata": {},
   "outputs": [],
   "source": []
  },
  {
   "cell_type": "code",
   "execution_count": null,
   "id": "39821d37-750b-490c-9186-b92f4044335e",
   "metadata": {},
   "outputs": [],
   "source": [
    "\n",
    "fig, ax1 = plt.subplots(figsize=(14,8))\n",
    "\n",
    "ax2 = ax1.twinx()\n",
    "\n",
    "ax1.bar(products,qty_ord)\n",
    "ax2.plot(products,prices, 'b-')\n",
    "\n",
    "\n",
    "ax1.set_xticklabels(products, rotation = 80)\n",
    "plt.show()"
   ]
  },
  {
   "cell_type": "code",
   "execution_count": null,
   "id": "8dd5a402-6b5a-481e-8a5c-a9c7a7ca3741",
   "metadata": {},
   "outputs": [],
   "source": []
  },
  {
   "cell_type": "code",
   "execution_count": null,
   "id": "a7d514c5-b906-41f6-ac49-5ee7ade922af",
   "metadata": {},
   "outputs": [],
   "source": [
    "annual_df.head()"
   ]
  },
  {
   "cell_type": "code",
   "execution_count": null,
   "id": "7694f0c7-7b23-4d93-afaf-70caa314e40c",
   "metadata": {},
   "outputs": [],
   "source": [
    "annual_df.dtypes"
   ]
  },
  {
   "cell_type": "code",
   "execution_count": null,
   "id": "49f0a370-b02a-4687-9749-63494ee0e957",
   "metadata": {},
   "outputs": [],
   "source": []
  },
  {
   "cell_type": "code",
   "execution_count": null,
   "id": "11b67353-902f-482f-88ec-81dcef9e9e32",
   "metadata": {},
   "outputs": [],
   "source": []
  },
  {
   "cell_type": "code",
   "execution_count": null,
   "id": "47867a79-8d21-4609-90dd-a6309bec5ab3",
   "metadata": {},
   "outputs": [],
   "source": [
    "\n",
    "    "
   ]
  },
  {
   "cell_type": "code",
   "execution_count": null,
   "id": "94b046ee-0b12-4656-8898-b2c7966e471e",
   "metadata": {},
   "outputs": [],
   "source": []
  },
  {
   "cell_type": "code",
   "execution_count": null,
   "id": "e551506f-f43c-4af2-8cf3-cda9639bfb4b",
   "metadata": {},
   "outputs": [],
   "source": []
  },
  {
   "cell_type": "code",
   "execution_count": null,
   "id": "aa90b3f4-d1e3-45c1-a6f7-f4710e4ab881",
   "metadata": {},
   "outputs": [],
   "source": [
    "annual_df.loc[(annual_df['Purchase Country_City'] == 'Provider_8,Mexico City, Mexico') |\n",
    "              (annual_df['Purchase Country_City'] == 'Provider_3,Boston, United States'), 'Region'] = 'North America'\n",
    "\n",
    "annual_df.loc[(annual_df['Purchase Country_City'] == 'Provider_1,Beijing, China') | \n",
    "              (annual_df['Purchase Country_City'] == 'Provider_2,Delhi, India') | \n",
    "              (annual_df['Purchase Country_City'] == 'Provider_13,Dhaka, Bangladesh') |\n",
    "              (annual_df['Purchase Country_City'] == 'Provider_7,Yokohama, Japan') |\n",
    "              (annual_df['Purchase Country_City'] == 'Provider_18,Bangkok, Thailand'),'Region'] = 'Asia'\n",
    "\n",
    "\n",
    "\n",
    "annual_df.loc[(annual_df['Purchase Country_City'] == 'Provider_10,Manila, Philippines') | \n",
    "              (annual_df['Purchase Country_City'] == 'Provider_12,Hanoi, Vietnam') |\n",
    "              (annual_df['Purchase Country_City'] == 'Provider_4,Jakarta, Indonesia'),'Region'] = 'South East Asia'\n",
    "\n",
    "annual_df.loc[(annual_df['Purchase Country_City'] == 'Provider_9,Lagos, Nigeria') |\n",
    "              (annual_df['Purchase Country_City'] == 'Provider_20,Durban, South Africa') |\n",
    "              (annual_df['Purchase Country_City'] == 'Provider_16,Giza, Egypt'),'Region'] = 'Africa'\n",
    "\n",
    "annual_df.loc[(annual_df['Purchase Country_City'] == 'Provider_15,Isfahan, Iran') | \n",
    "              (annual_df['Purchase Country_City'] == 'Provider_17,Islamabad, Pakistan'),'Region'] = 'Middle-East'\n",
    "\n",
    "annual_df.loc[(annual_df['Purchase Country_City'] == 'Provider_6,Moscow, Russia') | \n",
    "              (annual_df['Purchase Country_City'] == 'Provider_11,Munich, Germany')| \n",
    "              (annual_df['Purchase Country_City'] == 'Provider_19,Milan, Italy')| \n",
    "              (annual_df['Purchase Country_City'] == 'Provider_14,Ankara, Turkey'),'Region'] = 'Europe'\n",
    "\n",
    "annual_df.loc[annual_df['Purchase Country_City'] == 'Provider_5,Sao Paulo, Brazil','Region'] = 'South America'"
   ]
  },
  {
   "cell_type": "code",
   "execution_count": null,
   "id": "624d4714-b750-41c6-a9c4-3ac2f76b5af2",
   "metadata": {},
   "outputs": [],
   "source": []
  },
  {
   "cell_type": "code",
   "execution_count": null,
   "id": "d5804f4f-d4b1-4256-a658-2d2f3d2ea060",
   "metadata": {},
   "outputs": [],
   "source": [
    "reg = annual_df.groupby('Region', as_index = False).sum()\n",
    "reg.set_index('Region', inplace = False)\n",
    "reg.head()"
   ]
  },
  {
   "cell_type": "code",
   "execution_count": null,
   "id": "3c08952a-4219-4f16-9911-5f2298313149",
   "metadata": {},
   "outputs": [],
   "source": [
    "areas = [area for area, df in reg.groupby('Region')]"
   ]
  },
  {
   "cell_type": "code",
   "execution_count": null,
   "id": "c7e5dc85-bfde-42e3-a2cb-8d318640e3cd",
   "metadata": {},
   "outputs": [],
   "source": [
    "plt.figure(figsize = (16, 10))\n",
    "plt.ticklabel_format(style='plain')\n",
    "plt.bar(areas, reg['Quatity Ordered'])"
   ]
  },
  {
   "cell_type": "code",
   "execution_count": null,
   "id": "dea988e9-e665-429e-85b9-1f37b6dc23b7",
   "metadata": {},
   "outputs": [],
   "source": []
  },
  {
   "cell_type": "code",
   "execution_count": null,
   "id": "a0a7c612-ff48-4cbf-88ad-5c5f73d01999",
   "metadata": {},
   "outputs": [],
   "source": [
    "reg.sum()\n",
    "qty_ord_reg = reg.sum()['Quatity Ordered']"
   ]
  },
  {
   "cell_type": "code",
   "execution_count": null,
   "id": "5c4f4755-4142-4b0c-a0d5-927c859ae18a",
   "metadata": {},
   "outputs": [],
   "source": [
    "reg"
   ]
  },
  {
   "cell_type": "code",
   "execution_count": null,
   "id": "f51480a1-bf1c-4861-b35b-aea3f22680bd",
   "metadata": {},
   "outputs": [],
   "source": [
    "areas = [area for area, df in reg]"
   ]
  },
  {
   "cell_type": "code",
   "execution_count": null,
   "id": "b343953c-349f-464c-beaa-156235e803e7",
   "metadata": {},
   "outputs": [],
   "source": [
    "plt.figure(figsize=(16,10))\n",
    "plt.bar(areas,reg)\n",
    "\n",
    "plt.ylabel('Quantity Ordered')\n",
    "\n",
    "plt.xticks(products, rotation = 80)\n",
    "plt.show()\n"
   ]
  },
  {
   "cell_type": "code",
   "execution_count": null,
   "id": "19d35943-b18c-4759-843a-4323a119ae54",
   "metadata": {},
   "outputs": [],
   "source": []
  },
  {
   "cell_type": "code",
   "execution_count": null,
   "id": "9fbeac45-a92e-40f1-9913-743dea46e149",
   "metadata": {},
   "outputs": [],
   "source": []
  },
  {
   "cell_type": "code",
   "execution_count": null,
   "id": "3a14e3d5-cf4b-45e2-ab54-8629d225bfda",
   "metadata": {},
   "outputs": [],
   "source": []
  },
  {
   "cell_type": "code",
   "execution_count": null,
   "id": "e81b5116-a004-4333-bbe6-a866ca63e13d",
   "metadata": {},
   "outputs": [],
   "source": []
  },
  {
   "cell_type": "code",
   "execution_count": null,
   "id": "dc43ea52-cf5e-43bb-88d9-bca96d059b46",
   "metadata": {},
   "outputs": [],
   "source": []
  },
  {
   "cell_type": "code",
   "execution_count": null,
   "id": "6a5181ec-fb29-4178-98b0-b9b40f821a95",
   "metadata": {},
   "outputs": [],
   "source": []
  },
  {
   "cell_type": "code",
   "execution_count": null,
   "id": "dc6af7cc-273a-40f1-822d-c7f05e91aec9",
   "metadata": {},
   "outputs": [],
   "source": []
  },
  {
   "cell_type": "code",
   "execution_count": null,
   "id": "0f05ccb3-cf98-468b-8957-d243aa5cb775",
   "metadata": {},
   "outputs": [],
   "source": [
    "annual_df.head(20)"
   ]
  },
  {
   "cell_type": "code",
   "execution_count": null,
   "id": "171d3e42-58b8-4442-b460-622e8126c650",
   "metadata": {},
   "outputs": [],
   "source": []
  },
  {
   "cell_type": "code",
   "execution_count": null,
   "id": "6835cf35-89a2-4beb-91ca-2f6d9ec91cf2",
   "metadata": {},
   "outputs": [],
   "source": []
  },
  {
   "cell_type": "code",
   "execution_count": null,
   "id": "2f7e74d0-633b-4389-8bf9-ffc5fa933780",
   "metadata": {},
   "outputs": [],
   "source": []
  },
  {
   "cell_type": "code",
   "execution_count": null,
   "id": "13c46d88-eaa9-4f8f-853c-cc8fd06c68f0",
   "metadata": {},
   "outputs": [],
   "source": []
  },
  {
   "cell_type": "code",
   "execution_count": null,
   "id": "23de8d4a-4f18-4667-9d12-058cd8df9faa",
   "metadata": {},
   "outputs": [],
   "source": []
  },
  {
   "cell_type": "code",
   "execution_count": null,
   "id": "d3522929-8536-432a-b1bc-ab395a9f8339",
   "metadata": {},
   "outputs": [],
   "source": []
  },
  {
   "cell_type": "code",
   "execution_count": null,
   "id": "4d47b588-1781-4439-b3ee-3a3045dc04b0",
   "metadata": {},
   "outputs": [],
   "source": [
    "annual_df['Purchase Country_City'].unique()"
   ]
  },
  {
   "cell_type": "code",
   "execution_count": null,
   "id": "db754b7c-56c9-46f0-b21d-4518a857fa16",
   "metadata": {},
   "outputs": [],
   "source": [
    "annual_df.loc[annual_df['Quatity Ordered'] == 1, 'No Discount - Single Purchase'] = Sales\n",
    "annual_df.loc[annual_df['Quatity Ordered'] == 2, 'Sales_Less_Discount(8%)'] = (Sales/100) * 92\n",
    "annual_df.loc[annual_df['Quatity Ordered'] == 3, 'Sales_Less_Discount(8%)'] = (Sales/100) * 92\n",
    "annual_df.loc[annual_df['Quatity Ordered'] >= 4, 'Sales_Less_Discount(15%)'] = (Sales/100) * 85\n",
    "annual_df.loc[annual_df['Quatity Ordered'] >= 4, 'Sales_Less_Discount(15%)'] = (Sales/100) * 85"
   ]
  },
  {
   "cell_type": "code",
   "execution_count": null,
   "id": "f89fb2f6-145c-41b0-8ff2-6cc43c75a173",
   "metadata": {},
   "outputs": [],
   "source": []
  },
  {
   "cell_type": "code",
   "execution_count": null,
   "id": "0b702767-2bf7-4013-b08b-3f0d514d8af0",
   "metadata": {},
   "outputs": [],
   "source": []
  },
  {
   "cell_type": "code",
   "execution_count": null,
   "id": "00dcaffc-409b-4a21-bedb-62b8fa9bdfcc",
   "metadata": {},
   "outputs": [],
   "source": []
  },
  {
   "cell_type": "code",
   "execution_count": null,
   "id": "412d4ded-16b8-494c-a65c-31cc0b953673",
   "metadata": {},
   "outputs": [],
   "source": []
  },
  {
   "cell_type": "code",
   "execution_count": null,
   "id": "0974ec23-d4ca-431a-87e6-90b3ade3996b",
   "metadata": {},
   "outputs": [],
   "source": []
  },
  {
   "cell_type": "code",
   "execution_count": null,
   "id": "9c8fef08-df2f-40ae-9f41-31e7670c227e",
   "metadata": {},
   "outputs": [],
   "source": []
  },
  {
   "cell_type": "markdown",
   "id": "258f8c87-b929-4954-805c-549ff0d89be7",
   "metadata": {
    "tags": []
   },
   "source": [
    "## Time Analysis"
   ]
  },
  {
   "cell_type": "code",
   "execution_count": null,
   "id": "f4a9b51a-b766-41f2-9b91-a402d30840d0",
   "metadata": {},
   "outputs": [],
   "source": [
    "time_ana = annual_df\n",
    "time_ana"
   ]
  },
  {
   "cell_type": "code",
   "execution_count": null,
   "id": "a740802e-3314-4b96-8aa9-8a7db92dda23",
   "metadata": {},
   "outputs": [],
   "source": [
    "time_ana['Order Date'] = pd.to_datetime(time_ana['Order Date'])"
   ]
  },
  {
   "cell_type": "code",
   "execution_count": null,
   "id": "e90dff31-dab0-4e0f-99b2-a3929a63306d",
   "metadata": {},
   "outputs": [],
   "source": [
    "time_ana.dtypes"
   ]
  },
  {
   "cell_type": "code",
   "execution_count": null,
   "id": "a9f6a3c1-c6f9-42f5-8c54-9264294b2470",
   "metadata": {},
   "outputs": [],
   "source": [
    "time_ana['Hour'] = time_ana['Order Date'].dt.hour\n",
    "time_ana['Minute'] = time_ana['Order Date'].dt.minute\n",
    "time_ana['Count'] = 1\n",
    "time_ana"
   ]
  },
  {
   "cell_type": "code",
   "execution_count": null,
   "id": "fa53f61e-14ee-41c6-a7e0-6f4cc57bee9d",
   "metadata": {},
   "outputs": [],
   "source": [
    "hours = [hour for hour, df in time_ana.groupby('Hour')]\n",
    "plt.plot(hours, time_ana.groupby(['Hour']).count())"
   ]
  },
  {
   "cell_type": "code",
   "execution_count": null,
   "id": "542cec15-ec97-4fb0-9359-1d8e3b0813c0",
   "metadata": {},
   "outputs": [],
   "source": [
    "#time_ana.dtypes\n",
    "hours"
   ]
  },
  {
   "cell_type": "code",
   "execution_count": null,
   "id": "37d4b998-b14d-429d-bfaf-5ffbc11f02e4",
   "metadata": {},
   "outputs": [],
   "source": [
    "hours = [hour for hour, df in time_ana.groupby('Hour')]\n",
    "#plt.plot(hours, time_ana.groupby(['Hour']).count())\n",
    "#hours = pd.Series(hours)\n",
    "hours"
   ]
  },
  {
   "cell_type": "code",
   "execution_count": null,
   "id": "4a64ec53-7938-41c5-aa1b-1ed2b46cc831",
   "metadata": {},
   "outputs": [],
   "source": [
    "Check = time_ana.groupby(['Hour']).count()\n",
    "Check\n",
    "#hours"
   ]
  },
  {
   "cell_type": "code",
   "execution_count": null,
   "id": "9ae0b533-a618-4cfb-94a2-1c55959ae443",
   "metadata": {},
   "outputs": [],
   "source": [
    "#plt.plot(time_ana.groupby(['Hour']).count())\n",
    "\n",
    "x= hours\n",
    "y = time_ana.groupby(['Hour']).count()\n",
    "plt.plot(x,y)\n",
    "plt.legend()"
   ]
  },
  {
   "cell_type": "code",
   "execution_count": null,
   "id": "ad6da9dd-fa62-4d6b-851a-e45c5dcbb039",
   "metadata": {},
   "outputs": [],
   "source": []
  },
  {
   "cell_type": "code",
   "execution_count": null,
   "id": "4a0771d3-1242-460a-aced-e00154d8e3c5",
   "metadata": {},
   "outputs": [],
   "source": []
  },
  {
   "cell_type": "code",
   "execution_count": null,
   "id": "befeaa99-b9bb-4edc-a14f-bef8b61e801c",
   "metadata": {},
   "outputs": [],
   "source": []
  },
  {
   "cell_type": "code",
   "execution_count": null,
   "id": "67eb4d57-68a6-4842-ac60-ec09c122a3e9",
   "metadata": {},
   "outputs": [],
   "source": []
  },
  {
   "cell_type": "code",
   "execution_count": null,
   "id": "1a083dee-f8a6-4724-80f9-81f0cf625b38",
   "metadata": {},
   "outputs": [],
   "source": []
  },
  {
   "cell_type": "code",
   "execution_count": null,
   "id": "5a47877e-3592-4ae4-8fb9-e23a8a9ee593",
   "metadata": {},
   "outputs": [],
   "source": []
  },
  {
   "cell_type": "code",
   "execution_count": null,
   "id": "3a149833-d171-4a99-ad04-47aa4b7be85e",
   "metadata": {},
   "outputs": [],
   "source": []
  },
  {
   "cell_type": "code",
   "execution_count": null,
   "id": "9355bd54-370d-40b0-bb27-55b04f3fdb06",
   "metadata": {},
   "outputs": [],
   "source": []
  },
  {
   "cell_type": "code",
   "execution_count": null,
   "id": "478e5c5d-1ed1-4a02-9480-f21b30e952b4",
   "metadata": {},
   "outputs": [],
   "source": []
  },
  {
   "cell_type": "code",
   "execution_count": null,
   "id": "682807e3-aabc-4fef-9e38-187972aa7a69",
   "metadata": {},
   "outputs": [],
   "source": []
  },
  {
   "cell_type": "code",
   "execution_count": null,
   "id": "22d035d3-99c6-466a-933c-0be273a9bed4",
   "metadata": {},
   "outputs": [],
   "source": []
  },
  {
   "cell_type": "code",
   "execution_count": null,
   "id": "93d8e799-3d8d-4ad8-a4ce-4cdb02dea717",
   "metadata": {},
   "outputs": [],
   "source": [
    "time_ana.dtypes"
   ]
  },
  {
   "cell_type": "code",
   "execution_count": null,
   "id": "275d51ef-3902-4443-aa5f-c40117ecd510",
   "metadata": {},
   "outputs": [],
   "source": [
    "time_ana = time_ana.drop(['No Discount - Single Purchase', 'Sales_Less_Discount(8%)', 'Sales_Less_Discount(15%)'], axis=1)"
   ]
  },
  {
   "cell_type": "code",
   "execution_count": null,
   "id": "edab9f05-d501-4b2a-a3cc-fdc02ffb6bc4",
   "metadata": {},
   "outputs": [],
   "source": [
    "time_ana.dtypes"
   ]
  },
  {
   "cell_type": "code",
   "execution_count": null,
   "id": "eebadc61-f87e-47dd-a273-0774d24c874d",
   "metadata": {},
   "outputs": [],
   "source": [
    "time_ana"
   ]
  },
  {
   "cell_type": "code",
   "execution_count": null,
   "id": "fb8ec09b-bf6f-4111-ac1f-9633e8719900",
   "metadata": {},
   "outputs": [],
   "source": [
    "data_by_hr = time_ana.groupby('Hour', as_index=False).count()\n",
    "data_by_hr.set_index('Purchase Country_City', inplace=False)\n",
    "data_by_hr.head()"
   ]
  },
  {
   "cell_type": "code",
   "execution_count": null,
   "id": "a9da9227-2031-4946-b83e-54f1be41dc97",
   "metadata": {},
   "outputs": [],
   "source": [
    "hours = [hour for hour, time_ana in time_ana.groupby('Hour')]\n",
    "\n",
    "hours"
   ]
  },
  {
   "cell_type": "code",
   "execution_count": null,
   "id": "beecc812-0839-4e9d-8e27-7e67aa903ff2",
   "metadata": {},
   "outputs": [],
   "source": [
    "df_x = (data_by_hr.groupby(['Hour'], as_index=False).sum())\n",
    "df_x"
   ]
  },
  {
   "cell_type": "code",
   "execution_count": null,
   "id": "7a5f3cef-2c09-4c33-9319-f8610e27261e",
   "metadata": {},
   "outputs": [],
   "source": [
    "df_x.reset_index()\n",
    "df_x"
   ]
  },
  {
   "cell_type": "code",
   "execution_count": null,
   "id": "cf603ba5-f1e3-4168-a623-c42c5c9f1bc3",
   "metadata": {},
   "outputs": [],
   "source": [
    "plt.plot(hours, df_x.groupby(['Month']))"
   ]
  },
  {
   "cell_type": "code",
   "execution_count": null,
   "id": "405bc3c2-5f28-4c37-9940-67444db58075",
   "metadata": {},
   "outputs": [],
   "source": []
  },
  {
   "cell_type": "markdown",
   "id": "6f94669c-2a45-43a2-a472-18e159c947cb",
   "metadata": {},
   "source": [
    "### Bibliography"
   ]
  },
  {
   "cell_type": "markdown",
   "id": "8b12a89d-d097-4dcb-8817-55fe9005c965",
   "metadata": {},
   "source": [
    "1. https://newzoo.com/insights/rankings/top-countries-by-smartphone-penetration-and-users\n",
    "2. https://www.statista.com/statistics/263437/global-smartphone-sales-to-end-users-since-2007/\n",
    "3. https://www.forbes.com/the-worlds-most-valuable-brands/#706f578119c0\n",
    "4. https://www.counterpointresearch.com/global-smartphone-share/) \n",
    "5. https://en.wikipedia.org/wiki/Monte_Carlo_method\n",
    "6. https://link.springer.com/article/10.1007/s00048-019-00227-6\n",
    "7. "
   ]
  },
  {
   "cell_type": "code",
   "execution_count": null,
   "id": "98fdb17a-3b27-409c-afe8-3d34a144c35c",
   "metadata": {},
   "outputs": [],
   "source": []
  },
  {
   "cell_type": "code",
   "execution_count": null,
   "id": "50e0b2f2-619d-48d1-b294-d4dd82c9a740",
   "metadata": {},
   "outputs": [],
   "source": []
  },
  {
   "cell_type": "code",
   "execution_count": null,
   "id": "e7e2aafe-895f-4ddb-83ce-01cdb1e79f9e",
   "metadata": {},
   "outputs": [],
   "source": []
  },
  {
   "cell_type": "code",
   "execution_count": null,
   "id": "1f27ffa8-d04e-4bea-b02f-ecf920baa6f9",
   "metadata": {},
   "outputs": [],
   "source": []
  },
  {
   "cell_type": "code",
   "execution_count": null,
   "id": "60c80a51-d455-41c7-a3a8-9ca5966885d4",
   "metadata": {},
   "outputs": [],
   "source": []
  },
  {
   "cell_type": "code",
   "execution_count": null,
   "id": "16998b6b-bbc3-4bae-b09f-7b09c632a1fb",
   "metadata": {},
   "outputs": [],
   "source": []
  },
  {
   "cell_type": "code",
   "execution_count": null,
   "id": "0613b904-84d5-4985-91a7-ef7d45ddf00d",
   "metadata": {},
   "outputs": [],
   "source": []
  },
  {
   "cell_type": "code",
   "execution_count": null,
   "id": "b6b89726-3d22-4720-99db-237c9646e0e5",
   "metadata": {},
   "outputs": [],
   "source": []
  },
  {
   "cell_type": "code",
   "execution_count": null,
   "id": "19cdd7b7-5367-4d08-b602-1765edc57679",
   "metadata": {},
   "outputs": [],
   "source": []
  },
  {
   "cell_type": "code",
   "execution_count": null,
   "id": "891b7e27-5f40-46be-8895-fa416daa55ea",
   "metadata": {},
   "outputs": [],
   "source": []
  },
  {
   "cell_type": "code",
   "execution_count": null,
   "id": "d94c3835-4955-4c71-a969-f46302b9c17c",
   "metadata": {},
   "outputs": [],
   "source": []
  },
  {
   "cell_type": "code",
   "execution_count": null,
   "id": "b3d44cab-59dd-47d5-b645-31893aea3737",
   "metadata": {},
   "outputs": [],
   "source": []
  }
 ],
 "metadata": {
  "kernelspec": {
   "display_name": "Python 3 (ipykernel)",
   "language": "python",
   "name": "python3"
  },
  "language_info": {
   "codemirror_mode": {
    "name": "ipython",
    "version": 3
   },
   "file_extension": ".py",
   "mimetype": "text/x-python",
   "name": "python",
   "nbconvert_exporter": "python",
   "pygments_lexer": "ipython3",
   "version": "3.9.12"
  }
 },
 "nbformat": 4,
 "nbformat_minor": 5
}
